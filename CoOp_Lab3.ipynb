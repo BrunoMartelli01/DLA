{
 "cells": [
  {
   "cell_type": "markdown",
   "id": "36d4628726ade6e1",
   "metadata": {
    "collapsed": false
   },
   "source": [
    "#### Exercise 3.2: Fine-tuning a CLIP Model (harder)\n",
    "\n",
    "Use a (small) CLIP model like [`openai/clip-vit-base-patch16`](https://huggingface.co/openai/clip-vit-base-patch16) and evaluate its zero-shot performance on a small image classification dataset like ImageNette or TinyImageNet. Fine-tune (using a parameter-efficient method!) the CLIP model to see how much improvement you can squeeze out of it.\n",
    "\n",
    "**Note**: There are several ways to adapt the CLIP model; you could fine-tune the image encoder, the text encoder, or both. Or, you could experiment with prompt learning.\n",
    "\n",
    "**Tip**: CLIP probably already works very well on ImageNet and ImageNet-like images. For extra fun, look for an image classification dataset with different image types (e.g. *sketches*)."
   ]
  },
  {
   "cell_type": "markdown",
   "id": "81eb811727fa9833",
   "metadata": {
    "collapsed": false
   },
   "source": [
    "# CoOp\n",
    "leggendo la richiesta sopra mi sono subito interessato all prompt learaning, in particolare al metodo [`CoOp`](https://arxiv.org/pdf/2109.01134) ho iniziato verificando come il modello genera le text features. Ho confrontato le embedding testuali ottenute in modo standard con quelle calcolate manualmente, ricostruendo passo passo l'intero flusso: partendo dagli embedding di token e posizione, passando per l'encoder transformer con la casual attention mask, applicando la layer norm finale e selezionando il token [EOT], fino alla proiezione lineare conclusiva. Il confronto ha mostrato che le text features manuali sono identiche a quelle standard, così come i logits ottenuti dal prodotto scalare con le image features. Questa verifica è fondamentale per poter in seguito sostituire gli embedding statici con quelli apprendibili, come previsto dal metodo CoOp."
   ]
  },
  {
   "cell_type": "code",
   "execution_count": 1,
   "id": "initial_id",
   "metadata": {
    "collapsed": true,
    "jupyter": {
     "outputs_hidden": true
    },
    "ExecuteTime": {
     "end_time": "2025-07-02T14:37:51.203341200Z",
     "start_time": "2025-07-02T14:37:35.810341700Z"
    }
   },
   "outputs": [
    {
     "name": "stderr",
     "output_type": "stream",
     "text": [
      "Using a slow image processor as `use_fast` is unset and a slow processor was saved with this model. `use_fast=True` will be the default behavior in v4.52, even if the model was saved with a slow processor. This will result in minor differences in outputs. You'll still be able to use a slow processor with `use_fast=False`.\n"
     ]
    },
    {
     "name": "stdout",
     "output_type": "stream",
     "text": [
      "gli embending sono uguali : True\n",
      "l'uscita dell'encoder è uguale : 12\n",
      "features sono uguali : True\n",
      "--- VERIFICA DEI RISULTATI FINALI (LOGITS) ---\n",
      "Logits calcolati con metodo STANDARD: [[22.73867  15.661786]]\n",
      "Logits calcolati con metodo MANUALE:  [[22.738672 15.661789]]\n"
     ]
    }
   ],
   "source": [
    "import torch\n",
    "from PIL import Image\n",
    "import requests\n",
    "from transformers import CLIPProcessor, CLIPModel\n",
    "from transformers.modeling_attn_mask_utils import _create_4d_causal_attention_mask\n",
    "\n",
    "model_name = \"openai/clip-vit-base-patch16\"\n",
    "model = CLIPModel.from_pretrained(model_name).eval()\n",
    "processor = CLIPProcessor.from_pretrained(model_name)\n",
    "\n",
    "device = \"cuda\" if torch.cuda.is_available() else \"cpu\"\n",
    "model.to(device)\n",
    "\n",
    "\n",
    "texts = [\"a photo of a cat\", \"a photo of a dog\"]\n",
    "inputs = processor(text=texts, return_tensors=\"pt\", padding=True).to(device)\n",
    "url = \"http://images.cocodataset.org/val2017/000000039769.jpg\"\n",
    "image = Image.open(requests.get(url, stream=True).raw)\n",
    "\n",
    "input_ids = inputs['input_ids']\n",
    "\n",
    "\n",
    "with torch.no_grad():\n",
    "    \n",
    "    outputs = model.text_model(**inputs, output_hidden_states=True)\n",
    "    standard_text_features = model.get_text_features(input_ids=input_ids)\n",
    "\n",
    "\n",
    "    embeddings_module = model.text_model.embeddings\n",
    "    token_embeds = embeddings_module.token_embedding(input_ids)\n",
    "    position_ids = torch.arange(input_ids.shape[1], device=device).unsqueeze(0)\n",
    "    positional_embeds = embeddings_module.position_embedding(position_ids)\n",
    "    manual_initial_embeddings = token_embeds + positional_embeds\n",
    "    \n",
    "    print(\"gli embending sono uguali :\", manual_initial_embeddings.equal(outputs.hidden_states[0]))\n",
    "   \n",
    "    causal_attention_mask = _create_4d_causal_attention_mask(\n",
    "        input_ids.size(), manual_initial_embeddings.dtype, device=device\n",
    "    )  \n",
    "    encoder_outputs = model.text_model.encoder(inputs_embeds=manual_initial_embeddings, output_hidden_states=True , causal_attention_mask=causal_attention_mask)\n",
    "    i = 0 \n",
    "    for hidden in outputs.hidden_states:\n",
    "        if encoder_outputs.last_hidden_state.equal(hidden):\n",
    "            print(\"l'uscita dell'encoder è uguale :\", i)\n",
    "        i+=1\n",
    "        \n",
    "    standard_text_features = model.get_text_features(input_ids=input_ids, output_hidden_states=True )\n",
    "  \n",
    "    last_hidden_state = encoder_outputs.last_hidden_state\n",
    "    normed_hidden_state = model.text_model.final_layer_norm(last_hidden_state)\n",
    "    eot_token_positions = torch.argmax(input_ids, dim=-1)\n",
    "    pooled_output = normed_hidden_state[torch.arange(normed_hidden_state.shape[0], device=device), eot_token_positions]\n",
    "    manual_text_features = model.text_projection(pooled_output)\n",
    "    print(\"features sono uguali :\",standard_text_features.equal(manual_text_features))\n",
    "   \n",
    "   \n",
    "    image_inputs = processor(images=image, return_tensors=\"pt\").to(device)\n",
    "    image_features = model.get_image_features(**image_inputs)\n",
    "    \n",
    "    image_features_norm = image_features / image_features.norm(p=2, dim=-1, keepdim=True)\n",
    "    logit_scale = model.logit_scale.exp()\n",
    "    \n",
    "    text_features_norm_man = manual_text_features / manual_text_features.norm(p=2, dim=-1, keepdim=True)\n",
    "    logits_manual = logit_scale * image_features_norm @ text_features_norm_man.t()\n",
    "\n",
    "    \n",
    "     \n",
    "    inputs_image_text = processor(text=texts, images=image, return_tensors=\"pt\", padding=True).to(device)\n",
    "    standard_outputs = model(**inputs_image_text)\n",
    "    logits_standard = standard_outputs.logits_per_image\n",
    "    probs_standard = logits_standard.softmax(dim=-1)\n",
    "        \n",
    "    print(\"--- VERIFICA DEI RISULTATI FINALI (LOGITS) ---\")\n",
    "    print(\"Logits calcolati con metodo STANDARD:\", logits_standard.cpu().numpy())\n",
    "    print(\"Logits calcolati con metodo MANUALE: \", logits_manual.cpu().numpy())\n",
    "    \n",
    "   \n",
    "   "
   ]
  },
  {
   "cell_type": "markdown",
   "id": "83c033b6078062f0",
   "metadata": {
    "collapsed": false
   },
   "source": [
    "# Fine-tuning CLIP con CoOp\n",
    "definiamo un nuovo modello ovvero CLIP con il CoOp\n",
    "\n"
   ]
  },
  {
   "cell_type": "code",
   "execution_count": 2,
   "id": "4972776f8329c8dc",
   "metadata": {
    "collapsed": false,
    "ExecuteTime": {
     "end_time": "2025-07-02T14:37:51.217340300Z",
     "start_time": "2025-07-02T14:37:51.209341100Z"
    }
   },
   "outputs": [],
   "source": [
    "from transformers import CLIPProcessor, CLIPModel, CLIPTokenizer\n",
    "from transformers.modeling_attn_mask_utils import _create_4d_causal_attention_mask\n",
    "import torch\n",
    "import torch.nn as nn\n",
    "DEVICE = \"cuda\" if torch.cuda.is_available() else \"cpu\"\n",
    "MODEL_NAME = \"openai/clip-vit-base-patch16\"\n",
    "\n",
    "class CoOpCLIP(nn.Module):\n",
    "    def __init__(self, class_names, clip_model, m_ctx=16):\n",
    "        super().__init__()\n",
    "        self.class_names = class_names\n",
    "        self.n_classes = len(class_names)\n",
    "        self.n_ctx = m_ctx\n",
    "        self.clip_model = clip_model\n",
    "        embedding_dim = clip_model.text_model.config.hidden_size\n",
    "        ctx_vectors = torch.empty(self.n_ctx, embedding_dim, device=DEVICE)\n",
    "        nn.init.normal_(ctx_vectors, std=0.02)\n",
    "        self.context_vectors = nn.Parameter(ctx_vectors)\n",
    "        self.tokenizer = CLIPTokenizer.from_pretrained(MODEL_NAME)\n",
    "        tokenized_classes = self.tokenizer([c for c in class_names], padding = True, return_tensors=\"pt\")\n",
    "        self.class_token_ids = tokenized_classes.input_ids.to(DEVICE)\n",
    "        for param in self.clip_model.parameters():\n",
    "            param.requires_grad = False\n",
    "\n",
    "    def construct_prompts(self):\n",
    "        embedding_layer = self.clip_model.text_model.embeddings.token_embedding\n",
    "        prefix_embeddings = embedding_layer(self.class_token_ids[:, :1])\n",
    "        class_embeddings = embedding_layer(self.class_token_ids[:, 1:])\n",
    "        context_embeddings = self.context_vectors.unsqueeze(0).expand(self.n_classes, -1, -1)\n",
    "        prompt_embeddings = torch.cat([prefix_embeddings, context_embeddings, class_embeddings], dim=1)\n",
    "        return prompt_embeddings\n",
    "\n",
    "    def forward(self, image):\n",
    "       \n",
    "\n",
    "        prompt_embeds = self.construct_prompts()\n",
    "        \n",
    "        text_encoder = self.clip_model.text_model\n",
    "        # print(prompt_embeds.shape, prompt_embeds.dtype, prompt_embeds.device)\n",
    "        pos_ids = torch.arange(prompt_embeds.size(1), device=DEVICE).unsqueeze(0)\n",
    "        positional_embeddings = text_encoder.embeddings.position_embedding(pos_ids)\n",
    "        inputs_embeds = prompt_embeds + positional_embeddings\n",
    "        \n",
    "        input_shape = prompt_embeds.shape[:2]\n",
    "        \n",
    "        # per utilizzare correttamente l'encoder è fondamentale creare una maschera di attenzione causale ho seguito l'implementazione a \n",
    "        # https://github.com/huggingface/transformers/blob/main/src/transformers/models/clip/modeling_clip.py#L620 \n",
    "        # riga 620 gli ho passato la dimensione degli input_ids con anche gli embedding aggiunti  [102 , 1+16+7] prefisso context class ed end \n",
    "        causal_attention_mask = _create_4d_causal_attention_mask(\n",
    "            input_shape, inputs_embeds.dtype, device=DEVICE\n",
    "        )\n",
    "\n",
    "        encoder_outputs = text_encoder.encoder(\n",
    "            inputs_embeds=inputs_embeds,\n",
    "            causal_attention_mask=causal_attention_mask\n",
    "        )\n",
    "        last_hidden_state = encoder_outputs.last_hidden_state\n",
    "\n",
    "        eos_positions = self.class_token_ids.argmax(dim=-1) \n",
    "        # print(eos_positions)\n",
    "        final_token_indices = self.n_ctx + (eos_positions)\n",
    "        #https://github.com/huggingface/transformers/blob/main/src/transformers/models/clip/modeling_clip.py#L1023 \n",
    "        #ripreso da 1023 a 1035\n",
    "        pooled_output = last_hidden_state[torch.arange(self.n_classes), final_token_indices]\n",
    " \n",
    "        pooled_output = text_encoder.final_layer_norm(pooled_output)\n",
    "        \n",
    "        \n",
    "        \n",
    "        image_features = self.clip_model.get_image_features(pixel_values=image)\n",
    "        image_features = image_features / image_features.norm(p=2,dim=-1, keepdim=True)\n",
    "        \n",
    "        text_features = self.clip_model.text_projection(pooled_output)\n",
    "        text_features = text_features / text_features.norm(p=2, dim=-1, keepdim=True) # implementazione in una riga di vector norm \n",
    "        \n",
    "        logit_scale = self.clip_model.logit_scale.exp()\n",
    "       \n",
    "        logits = logit_scale * image_features @ text_features.t()\n",
    "        #al posto di mat mul ho usato @ \n",
    "\n",
    "        return logits\n",
    "\n"
   ]
  },
  {
   "cell_type": "markdown",
   "id": "e66b196a1d379934",
   "metadata": {
    "collapsed": false
   },
   "source": [
    "# few shot learning\n",
    "definamo la funzione per la creazione di un dataset few shot"
   ]
  },
  {
   "cell_type": "code",
   "execution_count": 3,
   "id": "7ca97e78ad379757",
   "metadata": {
    "collapsed": false,
    "ExecuteTime": {
     "end_time": "2025-07-02T14:37:51.238340800Z",
     "start_time": "2025-07-02T14:37:51.219339700Z"
    }
   },
   "outputs": [],
   "source": [
    "from torch.utils.data import DataLoader, Dataset\n",
    "class FewShotDataset(Dataset):\n",
    "    def __init__(self, samples):\n",
    "        self.samples = samples\n",
    "    def __len__(self):\n",
    "        return len(self.samples)\n",
    "    def __getitem__(self, idx):\n",
    "        return self.samples[idx]\n",
    "    \n",
    "    \n",
    "def create_few_shot_split(full_dataset, num_shots):\n",
    "    if num_shots > 10:\n",
    "        raise ValueError(\"Il numero di campioni per classe deve essere <= 10\")\n",
    "    \n",
    "    samples_per_class = {i: [] for i in range(len(class_names))}\n",
    "    for idx, (_, label) in enumerate(full_dataset):\n",
    "        samples_per_class[label].append(idx)\n",
    "    few_shot_samples = []\n",
    "    #print(samples_per_class)\n",
    "    for label, indices in samples_per_class.items():\n",
    "        selected_indices = random.sample(indices, min(num_shots, len(indices)))\n",
    "        for idx in selected_indices:\n",
    "            few_shot_samples.append(full_dataset[idx])\n",
    "    return FewShotDataset(few_shot_samples)\n"
   ]
  },
  {
   "cell_type": "markdown",
   "id": "10c864db65ced403",
   "metadata": {
    "collapsed": false
   },
   "source": [
    "# Accuracy\n",
    "definamo una la funzione evaluate per calcolare l'accuratezza del Clip base (Zero Shot) e del CoOp dato che hanno interfaccie diverse usato un parametro zero shot per distinguere i due casi "
   ]
  },
  {
   "cell_type": "code",
   "execution_count": 4,
   "id": "3dc1a12a056a4a7",
   "metadata": {
    "collapsed": false,
    "ExecuteTime": {
     "end_time": "2025-07-02T14:37:51.726341500Z",
     "start_time": "2025-07-02T14:37:51.231341600Z"
    }
   },
   "outputs": [],
   "source": [
    "import evaluate as hfevaluate\n",
    "from tqdm.notebook import tqdm\n",
    "@torch.no_grad()\n",
    "def evaluate(model, dataloader, processor, class_names, is_zeroshot=False):\n",
    "    model.eval()\n",
    "    accuracy_metric = hfevaluate.load(\"accuracy\")\n",
    "    if is_zeroshot:\n",
    "        text_inputs = processor(\n",
    "            text=[f\"a photo of a {c}, a type of flower.\" for c in class_names],  #da fig 1 pag 2 si osserva che si ottiene risultati migliori \n",
    "            return_tensors=\"pt\", padding=True\n",
    "        ).to(DEVICE)\n",
    "        text_features = model.get_text_features(**text_inputs)\n",
    "        text_features /= text_features.norm(p=2, dim=-1, keepdim=True)\n",
    "\n",
    "    pbar = tqdm(dataloader, desc=\"Valutazione\")\n",
    "    for images, labels in pbar:\n",
    "        images, labels = images.to(DEVICE), labels.to(DEVICE)\n",
    "        \n",
    "        if is_zeroshot:\n",
    "            image_features = model.get_image_features(pixel_values=images)\n",
    "            image_features /= image_features.norm(p=2, dim=-1, keepdim=True)\n",
    "            logits = model.logit_scale.exp() * image_features @ text_features.t()\n",
    "        else: \n",
    "            logits = model(images)\n",
    "\n",
    "        predictions = torch.argmax(logits, dim=-1)\n",
    "        \n",
    "        accuracy_metric.add_batch(predictions=predictions, references=labels)\n",
    "    results = accuracy_metric.compute()\n",
    "    return results['accuracy'] * 100"
   ]
  },
  {
   "cell_type": "markdown",
   "id": "7233ae04bf9f3d64",
   "metadata": {
    "collapsed": false
   },
   "source": []
  },
  {
   "cell_type": "markdown",
   "id": "9c2a48f0a070918c",
   "metadata": {
    "collapsed": false
   },
   "source": [
    "# Train and Evaluate\n",
    "implemento la logica per addestrare e valutare il modello con CoOp ho scelto come dataset flower102 ogni 10 epoche valuto sul validation set e salvo il modello migliore, alla fine valuto sul test set e calcolo la differenza con il modello zero shot. \n"
   ]
  },
  {
   "cell_type": "code",
   "execution_count": 5,
   "id": "532fb316698316e2",
   "metadata": {
    "collapsed": false,
    "ExecuteTime": {
     "end_time": "2025-07-02T16:28:43.159918600Z",
     "start_time": "2025-07-02T14:37:51.730340100Z"
    }
   },
   "outputs": [
    {
     "name": "stderr",
     "output_type": "stream",
     "text": [
      "100%|██████████| 345M/345M [00:28<00:00, 12.1MB/s] \n",
      "100%|██████████| 502/502 [00:00<00:00, 504kB/s]\n",
      "100%|██████████| 15.0k/15.0k [00:00<00:00, 15.0MB/s]\n"
     ]
    },
    {
     "name": "stdout",
     "output_type": "stream",
     "text": [
      "Caricato il dataset Flowers102 con 1020 immagini di addestramento, 6149 immagini di test e 1020 immagini di validazione.\n",
      "\n",
      "--- Calcolo della Baseline Zero-Shot CLIP ---\n"
     ]
    },
    {
     "data": {
      "text/plain": "Valutazione:   0%|          | 0/193 [00:00<?, ?it/s]",
      "application/vnd.jupyter.widget-view+json": {
       "version_major": 2,
       "version_minor": 0,
       "model_id": "040fe045f4324648a382c8eefe0819ea"
      }
     },
     "metadata": {},
     "output_type": "display_data"
    },
    {
     "name": "stdout",
     "output_type": "stream",
     "text": [
      "Accuracy Zero-Shot CLIP: 71.30%\n",
      "--------------------------------------------------\n",
      "\n",
      "--- Addestramento CoOp con 1 shot per classe ---\n"
     ]
    },
    {
     "data": {
      "text/plain": "Addestramento CoOp (1-shot):   0%|          | 0/50 [00:00<?, ?it/s]",
      "application/vnd.jupyter.widget-view+json": {
       "version_major": 2,
       "version_minor": 0,
       "model_id": "cd6357dc1cf6478c887e6056744c7a58"
      }
     },
     "metadata": {},
     "output_type": "display_data"
    },
    {
     "data": {
      "text/plain": "Valutazione:   0%|          | 0/32 [00:00<?, ?it/s]",
      "application/vnd.jupyter.widget-view+json": {
       "version_major": 2,
       "version_minor": 0,
       "model_id": "489ecc3e367e44bfb19e61b889315c83"
      }
     },
     "metadata": {},
     "output_type": "display_data"
    },
    {
     "name": "stdout",
     "output_type": "stream",
     "text": [
      "Epoch 10/50, Loss: 0.4364\n",
      "Validation Accuracy: 78.63%\n",
      " Nuovo modello migliore salvato in 'best_models/best_coop_1-shot.pth' con accuracy 78.63%\n"
     ]
    },
    {
     "data": {
      "text/plain": "Valutazione:   0%|          | 0/32 [00:00<?, ?it/s]",
      "application/vnd.jupyter.widget-view+json": {
       "version_major": 2,
       "version_minor": 0,
       "model_id": "f8f48e486c8e474a9580610623d04482"
      }
     },
     "metadata": {},
     "output_type": "display_data"
    },
    {
     "name": "stdout",
     "output_type": "stream",
     "text": [
      "Epoch 20/50, Loss: 0.0913\n",
      "Validation Accuracy: 79.41%\n",
      " Nuovo modello migliore salvato in 'best_models/best_coop_1-shot.pth' con accuracy 79.41%\n"
     ]
    },
    {
     "data": {
      "text/plain": "Valutazione:   0%|          | 0/32 [00:00<?, ?it/s]",
      "application/vnd.jupyter.widget-view+json": {
       "version_major": 2,
       "version_minor": 0,
       "model_id": "0ad00d50598b449fbb3419cc26f43540"
      }
     },
     "metadata": {},
     "output_type": "display_data"
    },
    {
     "name": "stdout",
     "output_type": "stream",
     "text": [
      "Epoch 30/50, Loss: 0.0520\n",
      "Validation Accuracy: 79.31%\n"
     ]
    },
    {
     "data": {
      "text/plain": "Valutazione:   0%|          | 0/32 [00:00<?, ?it/s]",
      "application/vnd.jupyter.widget-view+json": {
       "version_major": 2,
       "version_minor": 0,
       "model_id": "56fe89e8d12347fea5a75d2dc4b3c8ee"
      }
     },
     "metadata": {},
     "output_type": "display_data"
    },
    {
     "name": "stdout",
     "output_type": "stream",
     "text": [
      "Epoch 40/50, Loss: 0.0415\n",
      "Validation Accuracy: 78.73%\n"
     ]
    },
    {
     "data": {
      "text/plain": "Valutazione:   0%|          | 0/32 [00:00<?, ?it/s]",
      "application/vnd.jupyter.widget-view+json": {
       "version_major": 2,
       "version_minor": 0,
       "model_id": "5d93a26e29a94a70b08b5a3de3f910b1"
      }
     },
     "metadata": {},
     "output_type": "display_data"
    },
    {
     "name": "stdout",
     "output_type": "stream",
     "text": [
      "Epoch 50/50, Loss: 0.0393\n",
      "Validation Accuracy: 78.43%\n"
     ]
    },
    {
     "data": {
      "text/plain": "Valutazione:   0%|          | 0/193 [00:00<?, ?it/s]",
      "application/vnd.jupyter.widget-view+json": {
       "version_major": 2,
       "version_minor": 0,
       "model_id": "868a7178eafd4fc6aa2ca8ca40b59b55"
      }
     },
     "metadata": {},
     "output_type": "display_data"
    },
    {
     "name": "stdout",
     "output_type": "stream",
     "text": [
      "Accuracy CoOp (1-shot) sul TEST SET: 77.69%\n",
      "Differenza vs Zero-Shot: +6.39%\n",
      "--------------------------------------------------\n",
      "\n",
      "--- Addestramento CoOp con 2 shot per classe ---\n"
     ]
    },
    {
     "data": {
      "text/plain": "Addestramento CoOp (2-shot):   0%|          | 0/100 [00:00<?, ?it/s]",
      "application/vnd.jupyter.widget-view+json": {
       "version_major": 2,
       "version_minor": 0,
       "model_id": "b5618057b791476d81d6e710d49ecd2b"
      }
     },
     "metadata": {},
     "output_type": "display_data"
    },
    {
     "data": {
      "text/plain": "Valutazione:   0%|          | 0/32 [00:00<?, ?it/s]",
      "application/vnd.jupyter.widget-view+json": {
       "version_major": 2,
       "version_minor": 0,
       "model_id": "ad28fce473a4403a9e412dc2b6281914"
      }
     },
     "metadata": {},
     "output_type": "display_data"
    },
    {
     "name": "stdout",
     "output_type": "stream",
     "text": [
      "Epoch 10/100, Loss: 0.2669\n",
      "Validation Accuracy: 87.25%\n",
      " Nuovo modello migliore salvato in 'best_models/best_coop_2-shot.pth' con accuracy 87.25%\n"
     ]
    },
    {
     "data": {
      "text/plain": "Valutazione:   0%|          | 0/32 [00:00<?, ?it/s]",
      "application/vnd.jupyter.widget-view+json": {
       "version_major": 2,
       "version_minor": 0,
       "model_id": "f3e9fc8d662a4b6da7e202960421a846"
      }
     },
     "metadata": {},
     "output_type": "display_data"
    },
    {
     "name": "stdout",
     "output_type": "stream",
     "text": [
      "Epoch 20/100, Loss: 0.0503\n",
      "Validation Accuracy: 88.33%\n",
      " Nuovo modello migliore salvato in 'best_models/best_coop_2-shot.pth' con accuracy 88.33%\n"
     ]
    },
    {
     "data": {
      "text/plain": "Valutazione:   0%|          | 0/32 [00:00<?, ?it/s]",
      "application/vnd.jupyter.widget-view+json": {
       "version_major": 2,
       "version_minor": 0,
       "model_id": "016a3edfd958434ab7431cd4ea923706"
      }
     },
     "metadata": {},
     "output_type": "display_data"
    },
    {
     "name": "stdout",
     "output_type": "stream",
     "text": [
      "Epoch 30/100, Loss: 0.0281\n",
      "Validation Accuracy: 88.24%\n"
     ]
    },
    {
     "data": {
      "text/plain": "Valutazione:   0%|          | 0/32 [00:00<?, ?it/s]",
      "application/vnd.jupyter.widget-view+json": {
       "version_major": 2,
       "version_minor": 0,
       "model_id": "371d30465eeb4ba6a8fc06b7952b0352"
      }
     },
     "metadata": {},
     "output_type": "display_data"
    },
    {
     "name": "stdout",
     "output_type": "stream",
     "text": [
      "Epoch 40/100, Loss: 0.0204\n",
      "Validation Accuracy: 88.73%\n",
      " Nuovo modello migliore salvato in 'best_models/best_coop_2-shot.pth' con accuracy 88.73%\n"
     ]
    },
    {
     "data": {
      "text/plain": "Valutazione:   0%|          | 0/32 [00:00<?, ?it/s]",
      "application/vnd.jupyter.widget-view+json": {
       "version_major": 2,
       "version_minor": 0,
       "model_id": "cc99a40b50f5422f9d4169e4f89e1aa6"
      }
     },
     "metadata": {},
     "output_type": "display_data"
    },
    {
     "name": "stdout",
     "output_type": "stream",
     "text": [
      "Epoch 50/100, Loss: 0.0166\n",
      "Validation Accuracy: 88.92%\n",
      " Nuovo modello migliore salvato in 'best_models/best_coop_2-shot.pth' con accuracy 88.92%\n"
     ]
    },
    {
     "data": {
      "text/plain": "Valutazione:   0%|          | 0/32 [00:00<?, ?it/s]",
      "application/vnd.jupyter.widget-view+json": {
       "version_major": 2,
       "version_minor": 0,
       "model_id": "ed1fe2322de34d57bb7c54ddf99ec86b"
      }
     },
     "metadata": {},
     "output_type": "display_data"
    },
    {
     "name": "stdout",
     "output_type": "stream",
     "text": [
      "Epoch 60/100, Loss: 0.0145\n",
      "Validation Accuracy: 88.73%\n"
     ]
    },
    {
     "data": {
      "text/plain": "Valutazione:   0%|          | 0/32 [00:00<?, ?it/s]",
      "application/vnd.jupyter.widget-view+json": {
       "version_major": 2,
       "version_minor": 0,
       "model_id": "ba1613d773e2492bbba6d6d28bfb00b7"
      }
     },
     "metadata": {},
     "output_type": "display_data"
    },
    {
     "name": "stdout",
     "output_type": "stream",
     "text": [
      "Epoch 70/100, Loss: 0.0133\n",
      "Validation Accuracy: 88.63%\n"
     ]
    },
    {
     "data": {
      "text/plain": "Valutazione:   0%|          | 0/32 [00:00<?, ?it/s]",
      "application/vnd.jupyter.widget-view+json": {
       "version_major": 2,
       "version_minor": 0,
       "model_id": "02e9f9cb809e4a1ba0172fc818a3dfb8"
      }
     },
     "metadata": {},
     "output_type": "display_data"
    },
    {
     "name": "stdout",
     "output_type": "stream",
     "text": [
      "Epoch 80/100, Loss: 0.0127\n",
      "Validation Accuracy: 88.63%\n"
     ]
    },
    {
     "data": {
      "text/plain": "Valutazione:   0%|          | 0/32 [00:00<?, ?it/s]",
      "application/vnd.jupyter.widget-view+json": {
       "version_major": 2,
       "version_minor": 0,
       "model_id": "67ab9917ac4f4fe3b44cbc67409c4e42"
      }
     },
     "metadata": {},
     "output_type": "display_data"
    },
    {
     "name": "stdout",
     "output_type": "stream",
     "text": [
      "Epoch 90/100, Loss: 0.0124\n",
      "Validation Accuracy: 88.73%\n"
     ]
    },
    {
     "data": {
      "text/plain": "Valutazione:   0%|          | 0/32 [00:00<?, ?it/s]",
      "application/vnd.jupyter.widget-view+json": {
       "version_major": 2,
       "version_minor": 0,
       "model_id": "61b0f4349a714c088a2a7ff51d5497fe"
      }
     },
     "metadata": {},
     "output_type": "display_data"
    },
    {
     "name": "stdout",
     "output_type": "stream",
     "text": [
      "Epoch 100/100, Loss: 0.0123\n",
      "Validation Accuracy: 88.73%\n"
     ]
    },
    {
     "data": {
      "text/plain": "Valutazione:   0%|          | 0/193 [00:00<?, ?it/s]",
      "application/vnd.jupyter.widget-view+json": {
       "version_major": 2,
       "version_minor": 0,
       "model_id": "e497fbbd2e224fa0b92eae716eb10864"
      }
     },
     "metadata": {},
     "output_type": "display_data"
    },
    {
     "name": "stdout",
     "output_type": "stream",
     "text": [
      "Accuracy CoOp (2-shot) sul TEST SET: 89.40%\n",
      "Differenza vs Zero-Shot: +18.10%\n",
      "--------------------------------------------------\n",
      "\n",
      "--- Addestramento CoOp con 4 shot per classe ---\n"
     ]
    },
    {
     "data": {
      "text/plain": "Addestramento CoOp (4-shot):   0%|          | 0/100 [00:00<?, ?it/s]",
      "application/vnd.jupyter.widget-view+json": {
       "version_major": 2,
       "version_minor": 0,
       "model_id": "cc3a43eb6dd541159e4c235987f96336"
      }
     },
     "metadata": {},
     "output_type": "display_data"
    },
    {
     "data": {
      "text/plain": "Valutazione:   0%|          | 0/32 [00:00<?, ?it/s]",
      "application/vnd.jupyter.widget-view+json": {
       "version_major": 2,
       "version_minor": 0,
       "model_id": "6afdf976f5e6487b9b7d6ae04c4e8a47"
      }
     },
     "metadata": {},
     "output_type": "display_data"
    },
    {
     "name": "stdout",
     "output_type": "stream",
     "text": [
      "Epoch 10/100, Loss: 0.1667\n",
      "Validation Accuracy: 90.69%\n",
      " Nuovo modello migliore salvato in 'best_models/best_coop_4-shot.pth' con accuracy 90.69%\n"
     ]
    },
    {
     "data": {
      "text/plain": "Valutazione:   0%|          | 0/32 [00:00<?, ?it/s]",
      "application/vnd.jupyter.widget-view+json": {
       "version_major": 2,
       "version_minor": 0,
       "model_id": "5718476c087c4749b9ce9349404e410e"
      }
     },
     "metadata": {},
     "output_type": "display_data"
    },
    {
     "name": "stdout",
     "output_type": "stream",
     "text": [
      "Epoch 20/100, Loss: 0.0489\n",
      "Validation Accuracy: 90.39%\n"
     ]
    },
    {
     "data": {
      "text/plain": "Valutazione:   0%|          | 0/32 [00:00<?, ?it/s]",
      "application/vnd.jupyter.widget-view+json": {
       "version_major": 2,
       "version_minor": 0,
       "model_id": "60868e49f1714f38ae8d564925a270bd"
      }
     },
     "metadata": {},
     "output_type": "display_data"
    },
    {
     "name": "stdout",
     "output_type": "stream",
     "text": [
      "Epoch 30/100, Loss: 0.0295\n",
      "Validation Accuracy: 90.98%\n",
      " Nuovo modello migliore salvato in 'best_models/best_coop_4-shot.pth' con accuracy 90.98%\n"
     ]
    },
    {
     "data": {
      "text/plain": "Valutazione:   0%|          | 0/32 [00:00<?, ?it/s]",
      "application/vnd.jupyter.widget-view+json": {
       "version_major": 2,
       "version_minor": 0,
       "model_id": "30ffaf8598ba46f89057c149021d7674"
      }
     },
     "metadata": {},
     "output_type": "display_data"
    },
    {
     "name": "stdout",
     "output_type": "stream",
     "text": [
      "Epoch 40/100, Loss: 0.0221\n",
      "Validation Accuracy: 91.76%\n",
      " Nuovo modello migliore salvato in 'best_models/best_coop_4-shot.pth' con accuracy 91.76%\n"
     ]
    },
    {
     "data": {
      "text/plain": "Valutazione:   0%|          | 0/32 [00:00<?, ?it/s]",
      "application/vnd.jupyter.widget-view+json": {
       "version_major": 2,
       "version_minor": 0,
       "model_id": "c50c88a9fc044a4bac466365424fe419"
      }
     },
     "metadata": {},
     "output_type": "display_data"
    },
    {
     "name": "stdout",
     "output_type": "stream",
     "text": [
      "Epoch 50/100, Loss: 0.0183\n",
      "Validation Accuracy: 91.76%\n"
     ]
    },
    {
     "data": {
      "text/plain": "Valutazione:   0%|          | 0/32 [00:00<?, ?it/s]",
      "application/vnd.jupyter.widget-view+json": {
       "version_major": 2,
       "version_minor": 0,
       "model_id": "203e156fbc2940908c0a731c52b353ad"
      }
     },
     "metadata": {},
     "output_type": "display_data"
    },
    {
     "name": "stdout",
     "output_type": "stream",
     "text": [
      "Epoch 60/100, Loss: 0.0161\n",
      "Validation Accuracy: 91.86%\n",
      " Nuovo modello migliore salvato in 'best_models/best_coop_4-shot.pth' con accuracy 91.86%\n"
     ]
    },
    {
     "data": {
      "text/plain": "Valutazione:   0%|          | 0/32 [00:00<?, ?it/s]",
      "application/vnd.jupyter.widget-view+json": {
       "version_major": 2,
       "version_minor": 0,
       "model_id": "6c875057cd5747118624c0b972f3457b"
      }
     },
     "metadata": {},
     "output_type": "display_data"
    },
    {
     "name": "stdout",
     "output_type": "stream",
     "text": [
      "Epoch 70/100, Loss: 0.0147\n",
      "Validation Accuracy: 92.16%\n",
      " Nuovo modello migliore salvato in 'best_models/best_coop_4-shot.pth' con accuracy 92.16%\n"
     ]
    },
    {
     "data": {
      "text/plain": "Valutazione:   0%|          | 0/32 [00:00<?, ?it/s]",
      "application/vnd.jupyter.widget-view+json": {
       "version_major": 2,
       "version_minor": 0,
       "model_id": "39402ffb6c2040ab850e4f23e0c48a44"
      }
     },
     "metadata": {},
     "output_type": "display_data"
    },
    {
     "name": "stdout",
     "output_type": "stream",
     "text": [
      "Epoch 80/100, Loss: 0.0140\n",
      "Validation Accuracy: 92.25%\n",
      " Nuovo modello migliore salvato in 'best_models/best_coop_4-shot.pth' con accuracy 92.25%\n"
     ]
    },
    {
     "data": {
      "text/plain": "Valutazione:   0%|          | 0/32 [00:00<?, ?it/s]",
      "application/vnd.jupyter.widget-view+json": {
       "version_major": 2,
       "version_minor": 0,
       "model_id": "c7dcb6bf18f34a73b901be733445b2fb"
      }
     },
     "metadata": {},
     "output_type": "display_data"
    },
    {
     "name": "stdout",
     "output_type": "stream",
     "text": [
      "Epoch 90/100, Loss: 0.0136\n",
      "Validation Accuracy: 92.25%\n"
     ]
    },
    {
     "data": {
      "text/plain": "Valutazione:   0%|          | 0/32 [00:00<?, ?it/s]",
      "application/vnd.jupyter.widget-view+json": {
       "version_major": 2,
       "version_minor": 0,
       "model_id": "48e0f2c5fa124b6c88536beafabd8c04"
      }
     },
     "metadata": {},
     "output_type": "display_data"
    },
    {
     "name": "stdout",
     "output_type": "stream",
     "text": [
      "Epoch 100/100, Loss: 0.0136\n",
      "Validation Accuracy: 92.25%\n"
     ]
    },
    {
     "data": {
      "text/plain": "Valutazione:   0%|          | 0/193 [00:00<?, ?it/s]",
      "application/vnd.jupyter.widget-view+json": {
       "version_major": 2,
       "version_minor": 0,
       "model_id": "99e81c66ecb64270b5ce179996cb83b2"
      }
     },
     "metadata": {},
     "output_type": "display_data"
    },
    {
     "name": "stdout",
     "output_type": "stream",
     "text": [
      "Accuracy CoOp (4-shot) sul TEST SET: 90.97%\n",
      "Differenza vs Zero-Shot: +19.68%\n",
      "--------------------------------------------------\n",
      "\n",
      "--- Addestramento CoOp con 8 shot per classe ---\n"
     ]
    },
    {
     "data": {
      "text/plain": "Addestramento CoOp (8-shot):   0%|          | 0/200 [00:00<?, ?it/s]",
      "application/vnd.jupyter.widget-view+json": {
       "version_major": 2,
       "version_minor": 0,
       "model_id": "ae083fdc705d46aa86e3ff2516e147af"
      }
     },
     "metadata": {},
     "output_type": "display_data"
    },
    {
     "data": {
      "text/plain": "Valutazione:   0%|          | 0/32 [00:00<?, ?it/s]",
      "application/vnd.jupyter.widget-view+json": {
       "version_major": 2,
       "version_minor": 0,
       "model_id": "b5305de8858540aa9c90e4b5b8f7350f"
      }
     },
     "metadata": {},
     "output_type": "display_data"
    },
    {
     "name": "stdout",
     "output_type": "stream",
     "text": [
      "Epoch 10/200, Loss: 0.1196\n",
      "Validation Accuracy: 93.53%\n",
      " Nuovo modello migliore salvato in 'best_models/best_coop_8-shot.pth' con accuracy 93.53%\n"
     ]
    },
    {
     "data": {
      "text/plain": "Valutazione:   0%|          | 0/32 [00:00<?, ?it/s]",
      "application/vnd.jupyter.widget-view+json": {
       "version_major": 2,
       "version_minor": 0,
       "model_id": "dcc84c842a4a49f4bc4719d28e4e4f71"
      }
     },
     "metadata": {},
     "output_type": "display_data"
    },
    {
     "name": "stdout",
     "output_type": "stream",
     "text": [
      "Epoch 20/200, Loss: 0.0505\n",
      "Validation Accuracy: 93.73%\n",
      " Nuovo modello migliore salvato in 'best_models/best_coop_8-shot.pth' con accuracy 93.73%\n"
     ]
    },
    {
     "data": {
      "text/plain": "Valutazione:   0%|          | 0/32 [00:00<?, ?it/s]",
      "application/vnd.jupyter.widget-view+json": {
       "version_major": 2,
       "version_minor": 0,
       "model_id": "262ab6caf5484aaba4e73ef32d50175a"
      }
     },
     "metadata": {},
     "output_type": "display_data"
    },
    {
     "name": "stdout",
     "output_type": "stream",
     "text": [
      "Epoch 30/200, Loss: 0.0304\n",
      "Validation Accuracy: 95.29%\n",
      " Nuovo modello migliore salvato in 'best_models/best_coop_8-shot.pth' con accuracy 95.29%\n"
     ]
    },
    {
     "data": {
      "text/plain": "Valutazione:   0%|          | 0/32 [00:00<?, ?it/s]",
      "application/vnd.jupyter.widget-view+json": {
       "version_major": 2,
       "version_minor": 0,
       "model_id": "dd1372b54c12438ab103b213f9eaff63"
      }
     },
     "metadata": {},
     "output_type": "display_data"
    },
    {
     "name": "stdout",
     "output_type": "stream",
     "text": [
      "Epoch 40/200, Loss: 0.0229\n",
      "Validation Accuracy: 94.90%\n"
     ]
    },
    {
     "data": {
      "text/plain": "Valutazione:   0%|          | 0/32 [00:00<?, ?it/s]",
      "application/vnd.jupyter.widget-view+json": {
       "version_major": 2,
       "version_minor": 0,
       "model_id": "2b063d7e692a4cc3a0aef0d78154015c"
      }
     },
     "metadata": {},
     "output_type": "display_data"
    },
    {
     "name": "stdout",
     "output_type": "stream",
     "text": [
      "Epoch 50/200, Loss: 0.0182\n",
      "Validation Accuracy: 94.90%\n"
     ]
    },
    {
     "data": {
      "text/plain": "Valutazione:   0%|          | 0/32 [00:00<?, ?it/s]",
      "application/vnd.jupyter.widget-view+json": {
       "version_major": 2,
       "version_minor": 0,
       "model_id": "d18cab9994ef469884d359fec60d32fd"
      }
     },
     "metadata": {},
     "output_type": "display_data"
    },
    {
     "name": "stdout",
     "output_type": "stream",
     "text": [
      "Epoch 60/200, Loss: 0.0150\n",
      "Validation Accuracy: 95.10%\n"
     ]
    },
    {
     "data": {
      "text/plain": "Valutazione:   0%|          | 0/32 [00:00<?, ?it/s]",
      "application/vnd.jupyter.widget-view+json": {
       "version_major": 2,
       "version_minor": 0,
       "model_id": "663c7aac9d4a451d9ba48e4720b54fa3"
      }
     },
     "metadata": {},
     "output_type": "display_data"
    },
    {
     "name": "stdout",
     "output_type": "stream",
     "text": [
      "Epoch 70/200, Loss: 0.0129\n",
      "Validation Accuracy: 95.59%\n",
      " Nuovo modello migliore salvato in 'best_models/best_coop_8-shot.pth' con accuracy 95.59%\n"
     ]
    },
    {
     "data": {
      "text/plain": "Valutazione:   0%|          | 0/32 [00:00<?, ?it/s]",
      "application/vnd.jupyter.widget-view+json": {
       "version_major": 2,
       "version_minor": 0,
       "model_id": "e0360bdad39b46f995c05469dc17d83e"
      }
     },
     "metadata": {},
     "output_type": "display_data"
    },
    {
     "name": "stdout",
     "output_type": "stream",
     "text": [
      "Epoch 80/200, Loss: 0.0113\n",
      "Validation Accuracy: 95.59%\n"
     ]
    },
    {
     "data": {
      "text/plain": "Valutazione:   0%|          | 0/32 [00:00<?, ?it/s]",
      "application/vnd.jupyter.widget-view+json": {
       "version_major": 2,
       "version_minor": 0,
       "model_id": "986930ea467d441891ea3e0bb033d6fd"
      }
     },
     "metadata": {},
     "output_type": "display_data"
    },
    {
     "name": "stdout",
     "output_type": "stream",
     "text": [
      "Epoch 90/200, Loss: 0.0103\n",
      "Validation Accuracy: 95.88%\n",
      " Nuovo modello migliore salvato in 'best_models/best_coop_8-shot.pth' con accuracy 95.88%\n"
     ]
    },
    {
     "data": {
      "text/plain": "Valutazione:   0%|          | 0/32 [00:00<?, ?it/s]",
      "application/vnd.jupyter.widget-view+json": {
       "version_major": 2,
       "version_minor": 0,
       "model_id": "231f5412bf1046269026aec4881154a9"
      }
     },
     "metadata": {},
     "output_type": "display_data"
    },
    {
     "name": "stdout",
     "output_type": "stream",
     "text": [
      "Epoch 100/200, Loss: 0.0094\n",
      "Validation Accuracy: 96.18%\n",
      " Nuovo modello migliore salvato in 'best_models/best_coop_8-shot.pth' con accuracy 96.18%\n"
     ]
    },
    {
     "data": {
      "text/plain": "Valutazione:   0%|          | 0/32 [00:00<?, ?it/s]",
      "application/vnd.jupyter.widget-view+json": {
       "version_major": 2,
       "version_minor": 0,
       "model_id": "26daaeb128a34537b685de27b9d21204"
      }
     },
     "metadata": {},
     "output_type": "display_data"
    },
    {
     "name": "stdout",
     "output_type": "stream",
     "text": [
      "Epoch 110/200, Loss: 0.0087\n",
      "Validation Accuracy: 95.88%\n"
     ]
    },
    {
     "data": {
      "text/plain": "Valutazione:   0%|          | 0/32 [00:00<?, ?it/s]",
      "application/vnd.jupyter.widget-view+json": {
       "version_major": 2,
       "version_minor": 0,
       "model_id": "1a54b6bdd3534729b996a17998e0c5d1"
      }
     },
     "metadata": {},
     "output_type": "display_data"
    },
    {
     "name": "stdout",
     "output_type": "stream",
     "text": [
      "Epoch 120/200, Loss: 0.0082\n",
      "Validation Accuracy: 95.98%\n"
     ]
    },
    {
     "data": {
      "text/plain": "Valutazione:   0%|          | 0/32 [00:00<?, ?it/s]",
      "application/vnd.jupyter.widget-view+json": {
       "version_major": 2,
       "version_minor": 0,
       "model_id": "b52989d828b24f0391472af68d3b70be"
      }
     },
     "metadata": {},
     "output_type": "display_data"
    },
    {
     "name": "stdout",
     "output_type": "stream",
     "text": [
      "Epoch 130/200, Loss: 0.0078\n",
      "Validation Accuracy: 96.08%\n"
     ]
    },
    {
     "data": {
      "text/plain": "Valutazione:   0%|          | 0/32 [00:00<?, ?it/s]",
      "application/vnd.jupyter.widget-view+json": {
       "version_major": 2,
       "version_minor": 0,
       "model_id": "d373dd75e3694625bd7f8417c14554d0"
      }
     },
     "metadata": {},
     "output_type": "display_data"
    },
    {
     "name": "stdout",
     "output_type": "stream",
     "text": [
      "Epoch 140/200, Loss: 0.0075\n",
      "Validation Accuracy: 95.98%\n"
     ]
    },
    {
     "data": {
      "text/plain": "Valutazione:   0%|          | 0/32 [00:00<?, ?it/s]",
      "application/vnd.jupyter.widget-view+json": {
       "version_major": 2,
       "version_minor": 0,
       "model_id": "c9cf51cfa36341518ad9748aab21245f"
      }
     },
     "metadata": {},
     "output_type": "display_data"
    },
    {
     "name": "stdout",
     "output_type": "stream",
     "text": [
      "Epoch 150/200, Loss: 0.0073\n",
      "Validation Accuracy: 95.88%\n"
     ]
    },
    {
     "data": {
      "text/plain": "Valutazione:   0%|          | 0/32 [00:00<?, ?it/s]",
      "application/vnd.jupyter.widget-view+json": {
       "version_major": 2,
       "version_minor": 0,
       "model_id": "9002ce4b72764ef39b87d2550bfccd96"
      }
     },
     "metadata": {},
     "output_type": "display_data"
    },
    {
     "name": "stdout",
     "output_type": "stream",
     "text": [
      "Epoch 160/200, Loss: 0.0071\n",
      "Validation Accuracy: 95.88%\n"
     ]
    },
    {
     "data": {
      "text/plain": "Valutazione:   0%|          | 0/32 [00:00<?, ?it/s]",
      "application/vnd.jupyter.widget-view+json": {
       "version_major": 2,
       "version_minor": 0,
       "model_id": "106f3b88953c46a7a6ea3b988c210ba0"
      }
     },
     "metadata": {},
     "output_type": "display_data"
    },
    {
     "name": "stdout",
     "output_type": "stream",
     "text": [
      "Epoch 170/200, Loss: 0.0070\n",
      "Validation Accuracy: 95.88%\n"
     ]
    },
    {
     "data": {
      "text/plain": "Valutazione:   0%|          | 0/32 [00:00<?, ?it/s]",
      "application/vnd.jupyter.widget-view+json": {
       "version_major": 2,
       "version_minor": 0,
       "model_id": "6f3a64c2dbe24b1b99ec7b8aed41e564"
      }
     },
     "metadata": {},
     "output_type": "display_data"
    },
    {
     "name": "stdout",
     "output_type": "stream",
     "text": [
      "Epoch 180/200, Loss: 0.0069\n",
      "Validation Accuracy: 95.88%\n"
     ]
    },
    {
     "data": {
      "text/plain": "Valutazione:   0%|          | 0/32 [00:00<?, ?it/s]",
      "application/vnd.jupyter.widget-view+json": {
       "version_major": 2,
       "version_minor": 0,
       "model_id": "20405255815a41adb812b50b57cdae88"
      }
     },
     "metadata": {},
     "output_type": "display_data"
    },
    {
     "name": "stdout",
     "output_type": "stream",
     "text": [
      "Epoch 190/200, Loss: 0.0069\n",
      "Validation Accuracy: 95.88%\n"
     ]
    },
    {
     "data": {
      "text/plain": "Valutazione:   0%|          | 0/32 [00:00<?, ?it/s]",
      "application/vnd.jupyter.widget-view+json": {
       "version_major": 2,
       "version_minor": 0,
       "model_id": "93206b5d031345ee9cdd220c004b1797"
      }
     },
     "metadata": {},
     "output_type": "display_data"
    },
    {
     "name": "stdout",
     "output_type": "stream",
     "text": [
      "Epoch 200/200, Loss: 0.0069\n",
      "Validation Accuracy: 95.88%\n"
     ]
    },
    {
     "data": {
      "text/plain": "Valutazione:   0%|          | 0/193 [00:00<?, ?it/s]",
      "application/vnd.jupyter.widget-view+json": {
       "version_major": 2,
       "version_minor": 0,
       "model_id": "1f2ed4bfd9d049b5af7d8412f96bd10c"
      }
     },
     "metadata": {},
     "output_type": "display_data"
    },
    {
     "name": "stdout",
     "output_type": "stream",
     "text": [
      "Accuracy CoOp (8-shot) sul TEST SET: 95.14%\n",
      "Differenza vs Zero-Shot: +23.84%\n",
      "--------------------------------------------------\n"
     ]
    }
   ],
   "source": [
    "import numpy as np\n",
    "import random\n",
    "from torch.utils.data import DataLoader, Dataset\n",
    "from torchvision.transforms import InterpolationMode, Resize, CenterCrop, ToTensor, Normalize, Compose\n",
    "from torchvision.datasets import Flowers102\n",
    "import os\n",
    "random.seed(10)\n",
    "SHOTS = [1, 2, 4, 8]\n",
    "M_CONTEXT_VECTORS = 16\n",
    "EPOCHS = [50,100,100,200] \n",
    "BATCH_SIZE = 4\n",
    "LEARNING_RATE = 2e-3\n",
    "DEVICE = \"cuda\" if torch.cuda.is_available() else \"cpu\"\n",
    "MODEL_NAME = \"openai/clip-vit-base-patch16\"\n",
    "\n",
    "processor = CLIPProcessor.from_pretrained(MODEL_NAME)\n",
    "if not os.path.exists(\"best_models\"):\n",
    "    os.makedirs(\"best_models\")\n",
    "\n",
    "\n",
    "#presa da https://github.com/openai/CLIP/blob/dcba3cb2e2827b402d2701e7e1c7d9fed8a20ef1/clip/clip.py#L79      \n",
    "def _convert_image_to_rgb(image):\n",
    "    return image.convert(\"RGB\")\n",
    "preprocess = Compose([\n",
    "        Resize(224, interpolation= InterpolationMode.BICUBIC),\n",
    "        CenterCrop(224),\n",
    "        _convert_image_to_rgb,\n",
    "        ToTensor(),\n",
    "        Normalize((0.48145466, 0.4578275, 0.40821073), (0.26862954, 0.26130258, 0.27577711)),\n",
    "])\n",
    "\n",
    "\n",
    "\n",
    "\n",
    "full_train_dataset = Flowers102(root=\"data\", split=\"train\", download=True, transform=preprocess)\n",
    "test_dataset = Flowers102(root=\"data\", split=\"test\", download=True, transform=preprocess)\n",
    "validation_dataset = Flowers102(root=\"data\", split=\"val\", download=True, transform=preprocess)\n",
    "\n",
    "test_loader = DataLoader(test_dataset, batch_size=32, shuffle=False, pin_memory=True)\n",
    "validation_loader = DataLoader(validation_dataset, batch_size=32, shuffle=False, pin_memory=True)\n",
    "\n",
    "base_clip_model = CLIPModel.from_pretrained(MODEL_NAME).to(DEVICE)\n",
    "\n",
    "print(f\"Caricato il dataset Flowers102 con {len(full_train_dataset)} immagini di addestramento, {len(test_dataset)} immagini di test e {len(validation_dataset)} immagini di validazione.\")\n",
    "\n",
    "class_names = full_train_dataset.classes\n",
    "\n",
    "\n",
    "\n",
    "def train_one_epoch(model, dataloader, optimizer, scheduler):\n",
    "    model.train()\n",
    "    total_loss = 0\n",
    "    for images, labels in dataloader:\n",
    "        images, labels = images.to(DEVICE), labels.to(DEVICE)\n",
    "        optimizer.zero_grad()\n",
    "        outputs = model(images)\n",
    "        loss = nn.CrossEntropyLoss()(outputs, labels)\n",
    "        loss.backward()\n",
    "        optimizer.step()\n",
    "        total_loss += loss.item()\n",
    "        pbar.set_postfix({\"loss\": loss.item()})\n",
    "    scheduler.step()\n",
    "    return total_loss / len(dataloader)\n",
    "\n",
    "\n",
    "\n",
    "\n",
    "\n",
    "\n",
    "print(\"\\n--- Calcolo della Baseline Zero-Shot CLIP ---\")\n",
    "zeroshot_accuracy = evaluate(base_clip_model, test_loader, processor, class_names, is_zeroshot=True)\n",
    "print(f\"Accuracy Zero-Shot CLIP: {zeroshot_accuracy:.2f}%\")\n",
    "print(\"-\" * 50)\n",
    "\n",
    "\n",
    "\n",
    "    \n",
    "    \n",
    "    \n",
    "results = {}    \n",
    "for i, shot in enumerate(SHOTS):\n",
    "    print(f\"\\n--- Addestramento CoOp con {shot} shot per classe ---\")\n",
    "    train_dataset_few_shot = create_few_shot_split(full_train_dataset, shot)\n",
    "    train_loader_few_shot = DataLoader(train_dataset_few_shot, batch_size=BATCH_SIZE, shuffle=True , pin_memory=True)\n",
    "\n",
    "    \n",
    "    coop_model = CoOpCLIP(class_names, base_clip_model, m_ctx=M_CONTEXT_VECTORS).to(DEVICE)\n",
    "    \n",
    "    optimizer = torch.optim.SGD(coop_model.parameters(), lr=LEARNING_RATE)\n",
    "    scheduler = torch.optim.lr_scheduler.CosineAnnealingLR(optimizer, T_max=EPOCHS[i])\n",
    "    \n",
    "    \n",
    "    best_val_accuracy = 0.0\n",
    "    best_model_path = f\"best_models/best_coop_{shot}-shot.pth\"\n",
    "    \n",
    "    \n",
    "    pbar = tqdm(range(EPOCHS[i]), desc=f\"Addestramento CoOp ({shot}-shot)\")\n",
    "    \n",
    "    for epoch in pbar:\n",
    "        train_loss = train_one_epoch(coop_model, train_loader_few_shot, optimizer, scheduler)\n",
    "        if (epoch+1) % 10 == 0:\n",
    "            coop_model.eval()\n",
    "            with torch.no_grad():\n",
    "                current_val_accuracy = evaluate(coop_model, validation_loader, processor, class_names)\n",
    "            print(f\"Epoch {epoch+1}/{EPOCHS[i]}, Loss: {train_loss:.4f}\")\n",
    "            print(f\"Validation Accuracy: {current_val_accuracy:.2f}%\")\n",
    "            if current_val_accuracy > best_val_accuracy:\n",
    "                best_val_accuracy = current_val_accuracy\n",
    "                torch.save(coop_model.state_dict(), best_model_path)\n",
    "                print(f\" Nuovo modello migliore salvato in '{best_model_path}' con accuracy {best_val_accuracy:.2f}%\")\n",
    "            \n",
    "            coop_model.train()\n",
    "    \n",
    "    \n",
    "    \n",
    "    coop_accuracy = evaluate(coop_model, test_loader, processor, class_names)\n",
    "    results[shot] = coop_accuracy\n",
    "    \n",
    "    print(f\"Accuracy CoOp ({shot}-shot) sul TEST SET: {coop_accuracy:.2f}%\")\n",
    "    print(f\"Differenza vs Zero-Shot: {coop_accuracy - zeroshot_accuracy:+.2f}%\")\n",
    "    print(\"-\" * 50)\n",
    "\n",
    "\n"
   ]
  },
  {
   "cell_type": "code",
   "execution_count": 6,
   "id": "138ac8e706bd89d1",
   "metadata": {
    "collapsed": false,
    "ExecuteTime": {
     "end_time": "2025-07-02T16:35:12.844571100Z",
     "start_time": "2025-07-02T16:28:43.175445700Z"
    }
   },
   "outputs": [
    {
     "data": {
      "text/plain": "Valutazione:   0%|          | 0/193 [00:00<?, ?it/s]",
      "application/vnd.jupyter.widget-view+json": {
       "version_major": 2,
       "version_minor": 0,
       "model_id": "7f5ea50c716f4646b8e346bce42cfc31"
      }
     },
     "metadata": {},
     "output_type": "display_data"
    },
    {
     "name": "stdout",
     "output_type": "stream",
     "text": [
      "\n",
      "===== RIEPILOGO DEI RISULTATI =====\n",
      "Baseline Zero-Shot CLIP: 71.30%\n",
      "-----------------------------------\n",
      "Shots\t| CoOp Accuracy\t| Miglioramento\n",
      "-----------------------------------\n"
     ]
    },
    {
     "data": {
      "text/plain": "Valutazione:   0%|          | 0/193 [00:00<?, ?it/s]",
      "application/vnd.jupyter.widget-view+json": {
       "version_major": 2,
       "version_minor": 0,
       "model_id": "ec4db7a75c7e4e31b695daec8efc1bd9"
      }
     },
     "metadata": {},
     "output_type": "display_data"
    },
    {
     "name": "stdout",
     "output_type": "stream",
     "text": [
      "1\t| 77.52%\t\t| +6.23%\n"
     ]
    },
    {
     "data": {
      "text/plain": "Valutazione:   0%|          | 0/193 [00:00<?, ?it/s]",
      "application/vnd.jupyter.widget-view+json": {
       "version_major": 2,
       "version_minor": 0,
       "model_id": "bb233b92cca6442890758e9568186699"
      }
     },
     "metadata": {},
     "output_type": "display_data"
    },
    {
     "name": "stdout",
     "output_type": "stream",
     "text": [
      "2\t| 89.35%\t\t| +18.05%\n"
     ]
    },
    {
     "data": {
      "text/plain": "Valutazione:   0%|          | 0/193 [00:00<?, ?it/s]",
      "application/vnd.jupyter.widget-view+json": {
       "version_major": 2,
       "version_minor": 0,
       "model_id": "fa96f8dcb3cb4d8d9c49ebc1e09e68bc"
      }
     },
     "metadata": {},
     "output_type": "display_data"
    },
    {
     "name": "stdout",
     "output_type": "stream",
     "text": [
      "4\t| 90.97%\t\t| +19.68%\n"
     ]
    },
    {
     "data": {
      "text/plain": "Valutazione:   0%|          | 0/193 [00:00<?, ?it/s]",
      "application/vnd.jupyter.widget-view+json": {
       "version_major": 2,
       "version_minor": 0,
       "model_id": "58a6aba3e419474a9cf43f1a92b4a47c"
      }
     },
     "metadata": {},
     "output_type": "display_data"
    },
    {
     "name": "stdout",
     "output_type": "stream",
     "text": [
      "8\t| 95.35%\t\t| +24.05%\n",
      "===================================\n"
     ]
    },
    {
     "data": {
      "text/plain": "<Figure size 800x500 with 1 Axes>",
      "image/png": "[encoded data removed]"
     },
     "metadata": {},
     "output_type": "display_data"
    }
   ],
   "source": [
    "import torch\n",
    "import matplotlib.pyplot as plt\n",
    "from torchvision.datasets import Flowers102\n",
    "from transformers import  CLIPModel, CLIPProcessor\n",
    "from torchvision.transforms import InterpolationMode, Resize, CenterCrop, ToTensor, Normalize, Compose\n",
    "from torch.utils.data import DataLoader\n",
    "\n",
    "M_CONTEXT_VECTORS = 16\n",
    "SHOTS = [1, 2, 4, 8]\n",
    "def _convert_image_to_rgb(image):\n",
    "    return image.convert(\"RGB\")\n",
    "preprocess = Compose([\n",
    "    Resize(224, interpolation=InterpolationMode.BICUBIC),\n",
    "    CenterCrop(224),\n",
    "    _convert_image_to_rgb,\n",
    "    ToTensor(),\n",
    "    Normalize((0.48145466, 0.4578275, 0.40821073), (0.26862954, 0.26130258, 0.27577711)),\n",
    "])\n",
    "processor = CLIPProcessor.from_pretrained(MODEL_NAME)\n",
    "full_train_dataset = Flowers102(root=\"data\", split=\"train\", download=True, transform=preprocess)\n",
    "test_dataset = Flowers102(root=\"data\", split=\"test\", download=True, transform=preprocess)\n",
    "test_loader = DataLoader(test_dataset, batch_size=32, shuffle=False, pin_memory=True)\n",
    "class_names = full_train_dataset.classes\n",
    "base_clip_model = CLIPModel.from_pretrained(MODEL_NAME).to(DEVICE)\n",
    "zeroshot_accuracy = evaluate(base_clip_model, test_loader, processor, class_names, is_zeroshot=True)\n",
    "\n",
    "\n",
    "\n",
    "\n",
    "\n",
    "print(\"\\n===== RIEPILOGO DEI RISULTATI =====\")\n",
    "print(f\"Baseline Zero-Shot CLIP: {zeroshot_accuracy:.2f}%\") \n",
    "print(\"-\" * 35)\n",
    "print(\"Shots\\t| CoOp Accuracy\\t| Miglioramento\")\n",
    "print(\"-\" * 35)\n",
    "results = {}\n",
    "for shot in SHOTS:\n",
    "    m = CoOpCLIP(class_names, base_clip_model, m_ctx=M_CONTEXT_VECTORS)\n",
    "    m.load_state_dict(torch.load(f\"best_models/best_coop_{shot}-shot.pth\"))\n",
    "    m.to(DEVICE)\n",
    "    m.eval()\n",
    "    with torch.no_grad():\n",
    "        acc = evaluate(m, test_loader, processor, class_names)\n",
    "    improvement = acc - zeroshot_accuracy\n",
    "    results[shot] = acc\n",
    "    print(f\"{shot}\\t| {acc:.2f}%\\t\\t| {improvement:+.2f}%\")\n",
    "print(\"=\" * 35)\n",
    "\n",
    "\n",
    "\n",
    "shots =  sorted(results.keys())\n",
    "accuracies =  [results[shot] for shot in sorted(results.keys())]\n",
    "plt.figure(figsize=(8, 5))\n",
    "\n",
    "plt.plot(shots, accuracies, marker='o', linestyle='-', color='blue', label='CoOp Accuracy')\n",
    "plt.scatter(0, zeroshot_accuracy, color='red', s=100, label='Zero-Shot CLIP', zorder=5)\n",
    "\n",
    "plt.title(\"Accuratezza in funzione degli Shot\")\n",
    "plt.xlabel(\"Numero di Shot\")\n",
    "plt.ylabel(\"Accuracy (%)\")\n",
    "plt.grid(True)\n",
    "plt.legend()\n",
    "plt.tight_layout()\n",
    "plt.show()  "
   ]
  }
 ],
 "metadata": {
  "kernelspec": {
   "display_name": "Python 3 (ipykernel)",
   "language": "python",
   "name": "python3"
  },
  "language_info": {
   "codemirror_mode": {
    "name": "ipython",
    "version": 3
   },
   "file_extension": ".py",
   "mimetype": "text/x-python",
   "name": "python",
   "nbconvert_exporter": "python",
   "pygments_lexer": "ipython3",
   "version": "3.10.11"
  }
 },
 "nbformat": 4,
 "nbformat_minor": 5
}
