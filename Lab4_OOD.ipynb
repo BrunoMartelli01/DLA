{
 "cells": [
  {
   "cell_type": "markdown",
   "id": "cfe2f949",
   "metadata": {},
   "source": [
    "### Exercise 3.1: Implement ODIN for OOD detection\n",
    "ODIN is a very simple approach, and you can already start experimenting by implementing a temperature hyperparameter in your base model and doing a grid search on $T$ and $\\varepsilon$."
   ]
  },
  {
   "cell_type": "markdown",
   "id": "855255d6932b081e",
   "metadata": {
    "collapsed": false
   },
   "source": [
    "Come prima cosa mi sono andato a cercare il peaper dove viene presentato [ODIN]('https://arxiv.org/pdf/1706.02690') ho deciso di implementarlo sfruttando il modello dato ed addestrato dal professore "
   ]
  },
  {
   "cell_type": "code",
   "execution_count": 3,
   "id": "28c846cc",
   "metadata": {
    "scrolled": true,
    "ExecuteTime": {
     "end_time": "2025-07-01T14:54:29.669782200Z",
     "start_time": "2025-07-01T14:54:17.368782500Z"
    }
   },
   "outputs": [],
   "source": [
    "import torch\n",
    "import torchvision\n",
    "from torchvision.datasets import FakeData\n",
    "from torchvision import transforms\n",
    "import torch.nn.functional as F\n",
    "from torch import nn\n",
    "from torch import optim\n",
    "import numpy as np\n",
    "from sklearn import metrics\n",
    "import matplotlib.pyplot as plt"
   ]
  },
  {
   "cell_type": "code",
   "execution_count": 4,
   "id": "c4858e0f-f946-421b-ab5f-a23c9df536f1",
   "metadata": {
    "ExecuteTime": {
     "end_time": "2025-07-01T14:54:29.741782600Z",
     "start_time": "2025-07-01T14:54:29.710782700Z"
    }
   },
   "outputs": [
    {
     "data": {
      "text/plain": "True"
     },
     "execution_count": 4,
     "metadata": {},
     "output_type": "execute_result"
    }
   ],
   "source": [
    "torch.cuda.is_available()"
   ]
  },
  {
   "cell_type": "markdown",
   "id": "8f3dec7d-c47b-4278-bcc7-640091252651",
   "metadata": {},
   "source": [
    "Il test li svolgerò cifar10  ed utilizzerò per come OOD  FakeData"
   ]
  },
  {
   "cell_type": "code",
   "execution_count": 5,
   "id": "7f9a87a5",
   "metadata": {
    "tags": [],
    "ExecuteTime": {
     "end_time": "2025-07-01T14:54:30.723782700Z",
     "start_time": "2025-07-01T14:54:29.717782600Z"
    }
   },
   "outputs": [],
   "source": [
    "transform = transforms.Compose(\n",
    "    [transforms.ToTensor(),\n",
    "     transforms.Normalize((0.5, 0.5, 0.5), (0.5, 0.5, 0.5))])\n",
    "\n",
    "testset = torchvision.datasets.CIFAR10(root='./data', train=False,\n",
    "                                       download=True, transform=transform)\n",
    "testloader = torch.utils.data.DataLoader(testset, batch_size=1, # ho impostato la batch a 1 per semplificarmi il calcolo delle pertubazioni \n",
    "                                         shuffle=False, num_workers=8)\n",
    "\n",
    "fakeset = FakeData(size=10000, image_size=(3, 32, 32), transform=transform)\n",
    "fakeloader = torch.utils.data.DataLoader(fakeset, batch_size=1,\n",
    "                                         shuffle=False, num_workers=8)\n",
    "\n"
   ]
  },
  {
   "cell_type": "code",
   "execution_count": 6,
   "id": "c1a03e94",
   "metadata": {
    "ExecuteTime": {
     "end_time": "2025-07-01T14:54:30.725786800Z",
     "start_time": "2025-07-01T14:54:30.721781600Z"
    }
   },
   "outputs": [],
   "source": [
    "# A very simple CNN model.\n",
    "\n",
    "class CNN(nn.Module):\n",
    "    def __init__(self, dropout=False):\n",
    "        super().__init__()\n",
    "        self.dropout=dropout\n",
    "        self.conv1 = nn.Conv2d(3, 32, kernel_size=3, padding=1)\n",
    "        self.conv2 = nn.Conv2d(32, 64, kernel_size=3, padding=1)\n",
    "        self.conv3 = nn.Conv2d(64, 128, kernel_size=3, padding=1)\n",
    "        self.conv4 = nn.Conv2d(128, 128, kernel_size=3, stride=2, padding=1)  # downsample\n",
    "        self.conv5 = nn.Conv2d(128, 256, kernel_size=3, stride=2, padding=1)  # downsample\n",
    "        \n",
    "        self.flatten_dim = 256 * 8 * 8  # assuming input is 32x32\n",
    "        self.fc1 = nn.Linear(self.flatten_dim, 256)\n",
    "        self.fc2 = nn.Linear(256, 128)\n",
    "        self.fc3 = nn.Linear(128, 10)\n",
    "\n",
    "    def forward(self, x):\n",
    "        x = F.relu(self.conv1(x))   # -> 32x32x32\n",
    "        x = F.relu(self.conv2(x))   # -> 32x32x64\n",
    "        x = F.relu(self.conv3(x))   # -> 32x32x128\n",
    "        x = F.relu(self.conv4(x))   # -> 16x16x128\n",
    "        x = F.relu(self.conv5(x))   # -> 8x8x256\n",
    "        x = torch.flatten(x, 1)\n",
    "        if self.dropout:\n",
    "            x = F.dropout(F.relu(self.fc1(x)))\n",
    "            x = F.dropout(F.relu(self.fc2(x)))\n",
    "        else:\n",
    "            x = (F.relu(self.fc1(x)))\n",
    "            x = (F.relu(self.fc2(x)))\n",
    "        x = self.fc3(x)\n",
    "        return x\n"
   ]
  },
  {
   "cell_type": "markdown",
   "id": "4f3e240d-5e35-4669-a28f-6ebab4cb1408",
   "metadata": {},
   "source": [
    "Per semplicità come consigliato nel peaper per calcolare le perturbazioni di utilizzare La cross entropy loss"
   ]
  },
  {
   "cell_type": "code",
   "execution_count": 7,
   "id": "1ae8d5ac",
   "metadata": {
    "ExecuteTime": {
     "end_time": "2025-07-01T14:54:30.870784Z",
     "start_time": "2025-07-01T14:54:30.729784700Z"
    }
   },
   "outputs": [],
   "source": [
    "device = 'cuda' if torch.cuda.is_available() else 'cpu'\n",
    "model = CNN(dropout= False).to(device)\n",
    "\n",
    "loss =  nn.CrossEntropyLoss()\n",
    "optimizer = optim.Adam(model.parameters(), lr=0.0001)\n"
   ]
  },
  {
   "cell_type": "code",
   "execution_count": 8,
   "id": "71f296e1-4d6f-4f91-8715-9e30a8ebd293",
   "metadata": {
    "scrolled": true,
    "ExecuteTime": {
     "end_time": "2025-07-01T14:54:30.880786700Z",
     "start_time": "2025-07-01T14:54:30.872782500Z"
    }
   },
   "outputs": [
    {
     "data": {
      "text/plain": "CNN(\n  (conv1): Conv2d(3, 32, kernel_size=(3, 3), stride=(1, 1), padding=(1, 1))\n  (conv2): Conv2d(32, 64, kernel_size=(3, 3), stride=(1, 1), padding=(1, 1))\n  (conv3): Conv2d(64, 128, kernel_size=(3, 3), stride=(1, 1), padding=(1, 1))\n  (conv4): Conv2d(128, 128, kernel_size=(3, 3), stride=(2, 2), padding=(1, 1))\n  (conv5): Conv2d(128, 256, kernel_size=(3, 3), stride=(2, 2), padding=(1, 1))\n  (fc1): Linear(in_features=16384, out_features=256, bias=True)\n  (fc2): Linear(in_features=256, out_features=128, bias=True)\n  (fc3): Linear(in_features=128, out_features=10, bias=True)\n)"
     },
     "execution_count": 8,
     "metadata": {},
     "output_type": "execute_result"
    }
   ],
   "source": [
    "model"
   ]
  },
  {
   "cell_type": "code",
   "execution_count": 9,
   "id": "fdf7feca",
   "metadata": {
    "ExecuteTime": {
     "end_time": "2025-07-01T14:54:30.965786400Z",
     "start_time": "2025-07-01T14:54:30.876783300Z"
    }
   },
   "outputs": [
    {
     "data": {
      "text/plain": "<All keys matched successfully>"
     },
     "execution_count": 9,
     "metadata": {},
     "output_type": "execute_result"
    }
   ],
   "source": [
    "# USE THIS CELL TO LOAD THE PRETRAINED MODEL.\n",
    "\n",
    "model = CNN().to(device)\n",
    "model.load_state_dict(torch.load(f'./cifar10_CNN_{50}_{0.0001}.pth')) # modello dato dal professore  "
   ]
  },
  {
   "cell_type": "markdown",
   "id": "1f1944a6-0f93-4996-8fee-998cf0a57555",
   "metadata": {},
   "source": [
    "calcoliamoci gli score del test "
   ]
  },
  {
   "cell_type": "code",
   "execution_count": 10,
   "id": "9f25129a-0c67-4a22-830e-566138d2d419",
   "metadata": {
    "ExecuteTime": {
     "end_time": "2025-07-01T14:55:34.614783500Z",
     "start_time": "2025-07-01T14:54:30.964784400Z"
    }
   },
   "outputs": [
    {
     "data": {
      "text/plain": "torch.Size([6403])"
     },
     "execution_count": 10,
     "metadata": {},
     "output_type": "execute_result"
    }
   ],
   "source": [
    "with torch.no_grad():\n",
    "    scores_test = []\n",
    "    T = 1\n",
    "    for data in testloader: \n",
    "         x,y_true = data\n",
    "         logits = model(x.to(device)) \n",
    "         prob = F.softmax(logits/T, 1)\n",
    "         score = prob.max(dim=1)[0]\n",
    "         y_pred = torch.argmax(prob)\n",
    "         if(y_pred.to('cpu') ==  y_true):\n",
    "             scores_test.append(score.to('cpu')) \n",
    "    scores_test = torch.cat(scores_test) \n",
    "    \n",
    "    \n",
    "scores_test.shape        "
   ]
  },
  {
   "cell_type": "markdown",
   "id": "fe14c875-d8b2-42f3-b8d6-0692036c0b06",
   "metadata": {},
   "source": [
    "calcoliamoci gli score degli OOD"
   ]
  },
  {
   "cell_type": "code",
   "execution_count": 11,
   "id": "2cd66a37-fccc-41b1-ad5a-ca729e5b5309",
   "metadata": {
    "ExecuteTime": {
     "end_time": "2025-07-01T14:56:02.952782400Z",
     "start_time": "2025-07-01T14:55:34.608782600Z"
    }
   },
   "outputs": [
    {
     "data": {
      "text/plain": "torch.Size([6403])"
     },
     "execution_count": 11,
     "metadata": {},
     "output_type": "execute_result"
    }
   ],
   "source": [
    "with torch.no_grad():\n",
    "    scores_fake = []\n",
    "    T = 1\n",
    "    for data in fakeloader: \n",
    "         x,_ = data\n",
    "         logits = model(x.to(device)) \n",
    "         prob = F.softmax(logits/T, 1)\n",
    "         score = prob.max(dim=1)[0]\n",
    "         scores_fake.append(score.to('cpu')) \n",
    "         if(len(scores_fake) == len(scores_test)):\n",
    "            break\n",
    "    scores_fake = torch.cat(scores_fake) \n",
    "    \n",
    "scores_fake.shape\n",
    "    "
   ]
  },
  {
   "cell_type": "code",
   "execution_count": 12,
   "id": "a84d46d9-148c-4ef9-b245-a7ae6a251d6b",
   "metadata": {
    "ExecuteTime": {
     "end_time": "2025-07-01T14:56:03.241785900Z",
     "start_time": "2025-07-01T14:56:02.931784300Z"
    }
   },
   "outputs": [
    {
     "data": {
      "text/plain": "<sklearn.metrics._plot.roc_curve.RocCurveDisplay at 0x1876af6b160>"
     },
     "execution_count": 12,
     "metadata": {},
     "output_type": "execute_result"
    },
    {
     "data": {
      "text/plain": "<Figure size 640x480 with 1 Axes>",
      "image/png": "[encoded data removed]"
     },
     "metadata": {},
     "output_type": "display_data"
    }
   ],
   "source": [
    "y_fake = torch.zeros_like(scores_fake)\n",
    "y_test = torch.ones_like(scores_test)\n",
    "ypred = torch.cat((scores_test, scores_fake))\n",
    "ytrue = torch.cat((y_test, y_fake))\n",
    "\n",
    "fpr, tpr, thresholds = metrics.roc_curve(ytrue, ypred)\n",
    "roc_auc = metrics.auc(fpr, tpr)\n",
    "display = metrics.RocCurveDisplay(fpr=fpr, tpr=tpr, roc_auc=roc_auc)\n",
    "display.plot()"
   ]
  },
  {
   "cell_type": "markdown",
   "id": "61676bf5-3c03-46e0-bfa7-c629c7cafad0",
   "metadata": {},
   "source": [
    "ho definito una funzione ODIN che calcola gli score dell'imagine perturbata prendendo in ingresso il segno del gradiente l'immagine l'epislon e la temperatura"
   ]
  },
  {
   "cell_type": "code",
   "execution_count": 13,
   "id": "826c84d0-dea2-41ba-aa20-307a59d3e5f4",
   "metadata": {
    "ExecuteTime": {
     "end_time": "2025-07-01T14:56:03.262784800Z",
     "start_time": "2025-07-01T14:56:03.245781200Z"
    }
   },
   "outputs": [],
   "source": [
    "def ODIN(grad, x ,eps, T):\n",
    "     model.eval()\n",
    "     with torch.no_grad():\n",
    "        perturbed_image = x- eps * grad\n",
    "        logits =  model(perturbed_image.to(device))\n",
    "        prob = F.softmax(logits/T, 1)\n",
    "        score = prob.max(dim=1)[0]\n",
    "        return score.to('cpu') "
   ]
  },
  {
   "cell_type": "markdown",
   "id": "991f9cc3-423a-451e-8dec-df4e9131cabe",
   "metadata": {},
   "source": [
    "Non sono riuscito a trovare un modo di fare backward un tensore di valori quindi ho preferito mettere la batch a 1 rendere il codice più pulito"
   ]
  },
  {
   "cell_type": "markdown",
   "id": "8640d426-050b-41dc-9d86-13867066713c",
   "metadata": {},
   "source": [
    "abbiamo utilizzato la baseline proposta da [Hendrycks & Gimpel]('https://arxiv.org/pdf/1610.02136') (sezione 3, secondo paragrafo) come nel peaper quindi utilizzando solo i gli esempi correttamente classificati per gli esempi in distribuzione "
   ]
  },
  {
   "cell_type": "code",
   "execution_count": 14,
   "id": "8f76d526-9a3c-4235-88ac-99175d1119dc",
   "metadata": {
    "ExecuteTime": {
     "end_time": "2025-07-01T14:57:51.042926Z",
     "start_time": "2025-07-01T14:56:03.254790300Z"
    }
   },
   "outputs": [
    {
     "data": {
      "text/plain": "torch.Size([6403])"
     },
     "execution_count": 14,
     "metadata": {},
     "output_type": "execute_result"
    }
   ],
   "source": [
    "scores_test_ODIN = []\n",
    "T = 1000\n",
    "eps = 0.03\n",
    "std_dev = 0.5\n",
    "model.eval()\n",
    "for data in testloader: \n",
    "    model.zero_grad()\n",
    "    x,y_true = data\n",
    "    x,y_true = x.to(device), y_true.to(device)\n",
    "    x.requires_grad_()\n",
    "    logits = model(x) \n",
    "    prob = F.softmax(logits/T, 1)\n",
    "    score = prob.max(dim=1)[0]\n",
    "    y_pred = torch.argmax(prob)\n",
    "    \n",
    "    if(y_pred ==  y_true):\n",
    "         \n",
    "         l = F.cross_entropy(prob, torch.unsqueeze(y_pred,0).to(device))\n",
    "         l.backward() \n",
    "         gradient_sign = x.grad.data.sign()\n",
    "         x.grad.zero_()\n",
    "         gradient_sign = gradient_sign/std_dev \n",
    "         scores_test_ODIN.append(ODIN(gradient_sign, x, eps, T))\n",
    "      \n",
    "\n",
    "                 \n",
    "scores_test_ODIN = torch.cat(scores_test_ODIN) \n",
    "    \n",
    "    \n",
    "scores_test_ODIN.shape        "
   ]
  },
  {
   "cell_type": "code",
   "execution_count": 15,
   "id": "cf457235-06c8-4fea-a8d7-40425bf6b71f",
   "metadata": {
    "ExecuteTime": {
     "end_time": "2025-07-01T14:58:47.095766800Z",
     "start_time": "2025-07-01T14:57:51.048924600Z"
    }
   },
   "outputs": [
    {
     "data": {
      "text/plain": "torch.Size([6403])"
     },
     "execution_count": 15,
     "metadata": {},
     "output_type": "execute_result"
    }
   ],
   "source": [
    "\n",
    "scores_fake_ODIN = []\n",
    "T = 1000\n",
    "magnitude = 0.03\n",
    "std_dev = 0.5\n",
    "model.eval()\n",
    "for data in fakeloader: \n",
    "    if len(scores_fake_ODIN) >=  len(scores_test_ODIN):\n",
    "        break\n",
    "        \n",
    "    model.zero_grad()\n",
    "    x,_ = data\n",
    "    x = x.to(device)\n",
    "    x.requires_grad_()\n",
    "    logits = model(x) \n",
    "    prob = F.softmax(logits/T, 1)\n",
    "    y_pred = torch.argmax(prob)\n",
    "    y_pred = torch.unsqueeze(y_pred,0)\n",
    "    l = F.cross_entropy(prob,y_pred)\n",
    "    l.backward()\n",
    "    gradient_sign = x.grad.data.sign()/std_dev \n",
    "    x.grad.zero_()\n",
    "    scores_fake_ODIN.append(ODIN(gradient_sign, x, magnitude, T) )\n",
    "    \n",
    "                 \n",
    "scores_fake_ODIN = torch.cat(scores_fake_ODIN) \n",
    "    \n",
    "    \n",
    "scores_fake_ODIN.shape        "
   ]
  },
  {
   "cell_type": "code",
   "execution_count": 16,
   "id": "009f02ff-e2cf-43b1-b9b5-71a5dbf253ed",
   "metadata": {
    "ExecuteTime": {
     "end_time": "2025-07-01T14:58:47.302767300Z",
     "start_time": "2025-07-01T14:58:47.092767Z"
    }
   },
   "outputs": [
    {
     "data": {
      "text/plain": "<Figure size 800x600 with 1 Axes>",
      "image/png": "[encoded data removed]"
     },
     "metadata": {},
     "output_type": "display_data"
    }
   ],
   "source": [
    "y_fake_ODIN = torch.zeros_like(scores_fake_ODIN)\n",
    "y_test_ODIN = torch.ones_like(scores_test_ODIN)\n",
    "ypred_ODIN = torch.cat((scores_test_ODIN, scores_fake_ODIN))\n",
    "ytrue_ODIN = torch.cat((y_test_ODIN, y_fake_ODIN))\n",
    "\n",
    "# Compute ROC curve and AUC for ODIN\n",
    "fpr_ODIN, tpr_ODIN, _ = metrics.roc_curve(ytrue_ODIN, ypred_ODIN.detach().numpy())\n",
    "roc_auc_ODIN = metrics.auc(fpr_ODIN, tpr_ODIN)\n",
    "\n",
    "# Prepare true labels and predictions for regular scores\n",
    "y_fake = torch.zeros_like(scores_fake)\n",
    "y_test = torch.ones_like(scores_test)\n",
    "ypred = torch.cat((scores_test, scores_fake))\n",
    "ytrue = torch.cat((y_test, y_fake))\n",
    "\n",
    "# Compute ROC curve and AUC for regular scores\n",
    "fpr, tpr, _ = metrics.roc_curve(ytrue, ypred)\n",
    "roc_auc = metrics.auc(fpr, tpr)\n",
    "\n",
    "# Plot both ROC curves on the same figure\n",
    "plt.figure(figsize=(8, 6))\n",
    "plt.plot(fpr_ODIN, tpr_ODIN, label=f'ODIN ROC (AUC = {roc_auc_ODIN:.4f})')\n",
    "plt.plot(fpr, tpr, label=f'Baseline ROC (AUC = {roc_auc:.4f})')\n",
    "\n",
    "# Plot diagonal line\n",
    "plt.plot([0, 1], [0, 1], 'k--')\n",
    "\n",
    "# Plot formatting\n",
    "plt.xlabel('False Positive Rate')\n",
    "plt.ylabel('True Positive Rate')\n",
    "plt.title('ROC Curve Comparison')\n",
    "plt.legend(loc='lower right')\n",
    "plt.grid(True)\n",
    "plt.tight_layout()\n",
    "plt.show()"
   ]
  },
  {
   "cell_type": "markdown",
   "id": "e538af22-25c6-4746-a064-1303c21f8344",
   "metadata": {},
   "source": [
    "Come richiesto ho implementato una grid search per trovare i parametri migliori per il nostro problema"
   ]
  },
  {
   "cell_type": "code",
   "execution_count": 17,
   "id": "def5b670-4814-42d9-a5c2-e99dc0e2cc6d",
   "metadata": {
    "ExecuteTime": {
     "end_time": "2025-07-02T00:15:15.178664100Z",
     "start_time": "2025-07-01T14:58:47.308768900Z"
    }
   },
   "outputs": [
    {
     "name": "stdout",
     "output_type": "stream",
     "text": [
      "Tempearture: 1, Epsilon: 0.0, FPR at 95% TPR:0.7712009995314696     1/210\n",
      "is the new best\n",
      "--------------------------------\n",
      "Tempearture: 1, Epsilon: 0.0002, FPR at 95% TPR:0.752928314852413     2/210\n",
      "is the new best\n",
      "--------------------------------\n",
      "Tempearture: 1, Epsilon: 0.0004, FPR at 95% TPR:0.7338747462127128     3/210\n",
      "is the new best\n",
      "--------------------------------\n",
      "Tempearture: 1, Epsilon: 0.0006000000000000001, FPR at 95% TPR:0.717163829454943     4/210\n",
      "is the new best\n",
      "--------------------------------\n",
      "Tempearture: 1, Epsilon: 0.0008, FPR at 95% TPR:0.7002967359050445     5/210\n",
      "is the new best\n",
      "--------------------------------\n",
      "Tempearture: 1, Epsilon: 0.001, FPR at 95% TPR:0.6845228799000469     6/210\n",
      "is the new best\n",
      "--------------------------------\n",
      "Tempearture: 1, Epsilon: 0.0012000000000000001, FPR at 95% TPR:0.6665625488052476     7/210\n",
      "is the new best\n",
      "--------------------------------\n",
      "Tempearture: 1, Epsilon: 0.0014, FPR at 95% TPR:0.6489145712947056     8/210\n",
      "is the new best\n",
      "--------------------------------\n",
      "Tempearture: 1, Epsilon: 0.0016, FPR at 95% TPR:0.6387630798063407     9/210\n",
      "is the new best\n",
      "--------------------------------\n",
      "Tempearture: 1, Epsilon: 0.0018000000000000002, FPR at 95% TPR:0.6276745275652038     10/210\n",
      "is the new best\n",
      "--------------------------------\n",
      "Tempearture: 1, Epsilon: 0.002, FPR at 95% TPR:0.6184600968296111     11/210\n",
      "is the new best\n",
      "--------------------------------\n",
      "Tempearture: 1, Epsilon: 0.0022, FPR at 95% TPR:0.6103389036389193     12/210\n",
      "is the new best\n",
      "--------------------------------\n",
      "Tempearture: 1, Epsilon: 0.0024000000000000002, FPR at 95% TPR:0.5986256442292676     13/210\n",
      "is the new best\n",
      "--------------------------------\n",
      "Tempearture: 1, Epsilon: 0.0026000000000000003, FPR at 95% TPR:0.5905044510385756     14/210\n",
      "is the new best\n",
      "--------------------------------\n",
      "Tempearture: 1, Epsilon: 0.0028, FPR at 95% TPR:0.5806653131344682     15/210\n",
      "is the new best\n",
      "--------------------------------\n",
      "Tempearture: 1, Epsilon: 0.003, FPR at 95% TPR:0.5730126503201625     16/210\n",
      "is the new best\n",
      "--------------------------------\n",
      "Tempearture: 1, Epsilon: 0.0032, FPR at 95% TPR:0.5642667499609558     17/210\n",
      "is the new best\n",
      "--------------------------------\n",
      "Tempearture: 1, Epsilon: 0.0034000000000000002, FPR at 95% TPR:0.5633296892081837     18/210\n",
      "is the new best\n",
      "--------------------------------\n",
      "Tempearture: 1, Epsilon: 0.0036000000000000003, FPR at 95% TPR:0.5558332031860066     19/210\n",
      "is the new best\n",
      "--------------------------------\n",
      "Tempearture: 1, Epsilon: 0.0038, FPR at 95% TPR:0.5564579103545213     20/210\n",
      "--------------------------------\n",
      "Tempearture: 1, Epsilon: 0.004, FPR at 95% TPR:0.549586131500859     21/210\n",
      "is the new best\n",
      "--------------------------------\n",
      "\n",
      "Tempearture: 2, Epsilon: 0.0, FPR at 95% TPR:0.7174761830392004     22/210\n",
      "--------------------------------\n",
      "Tempearture: 2, Epsilon: 0.0002, FPR at 95% TPR:0.697017023270342     23/210\n",
      "--------------------------------\n",
      "Tempearture: 2, Epsilon: 0.0004, FPR at 95% TPR:0.678900515383414     24/210\n",
      "--------------------------------\n",
      "Tempearture: 2, Epsilon: 0.0006000000000000001, FPR at 95% TPR:0.6595345931594565     25/210\n",
      "--------------------------------\n",
      "Tempearture: 2, Epsilon: 0.0008, FPR at 95% TPR:0.6490707480868343     26/210\n",
      "--------------------------------\n",
      "Tempearture: 2, Epsilon: 0.001, FPR at 95% TPR:0.633140715289708     27/210\n",
      "--------------------------------\n",
      "Tempearture: 2, Epsilon: 0.0012000000000000001, FPR at 95% TPR:0.6211151022957988     28/210\n",
      "--------------------------------\n",
      "Tempearture: 2, Epsilon: 0.0014, FPR at 95% TPR:0.606434483835702     29/210\n",
      "--------------------------------\n",
      "Tempearture: 2, Epsilon: 0.0016, FPR at 95% TPR:0.5940965172575355     30/210\n",
      "--------------------------------\n",
      "Tempearture: 2, Epsilon: 0.0018000000000000002, FPR at 95% TPR:0.5853506168983289     31/210\n",
      "--------------------------------\n",
      "Tempearture: 2, Epsilon: 0.002, FPR at 95% TPR:0.574262064657192     32/210\n",
      "--------------------------------\n",
      "Tempearture: 2, Epsilon: 0.0022, FPR at 95% TPR:0.5637982195845698     33/210\n",
      "--------------------------------\n",
      "Tempearture: 2, Epsilon: 0.0024000000000000002, FPR at 95% TPR:0.5563017335623927     34/210\n",
      "--------------------------------\n",
      "Tempearture: 2, Epsilon: 0.0026000000000000003, FPR at 95% TPR:0.545525534905513     35/210\n",
      "is the new best\n",
      "--------------------------------\n",
      "Tempearture: 2, Epsilon: 0.0028, FPR at 95% TPR:0.5431828830235826     36/210\n",
      "is the new best\n",
      "--------------------------------\n",
      "Tempearture: 2, Epsilon: 0.003, FPR at 95% TPR:0.5341246290801187     37/210\n",
      "is the new best\n",
      "--------------------------------\n",
      "Tempearture: 2, Epsilon: 0.0032, FPR at 95% TPR:0.526940496642199     38/210\n",
      "is the new best\n",
      "--------------------------------\n",
      "Tempearture: 2, Epsilon: 0.0034000000000000002, FPR at 95% TPR:0.5222551928783383     39/210\n",
      "is the new best\n",
      "--------------------------------\n",
      "Tempearture: 2, Epsilon: 0.0036000000000000003, FPR at 95% TPR:0.5169451819459628     40/210\n",
      "is the new best\n",
      "--------------------------------\n",
      "Tempearture: 2, Epsilon: 0.0038, FPR at 95% TPR:0.5142901764797752     41/210\n",
      "is the new best\n",
      "--------------------------------\n",
      "Tempearture: 2, Epsilon: 0.004, FPR at 95% TPR:0.5099172263001718     42/210\n",
      "is the new best\n",
      "--------------------------------\n",
      "\n",
      "Tempearture: 5, Epsilon: 0.0, FPR at 95% TPR:0.592847102920506     43/210\n",
      "--------------------------------\n",
      "Tempearture: 5, Epsilon: 0.0002, FPR at 95% TPR:0.5803529595502108     44/210\n",
      "--------------------------------\n",
      "Tempearture: 5, Epsilon: 0.0004, FPR at 95% TPR:0.561611744494768     45/210\n",
      "--------------------------------\n",
      "Tempearture: 5, Epsilon: 0.0006000000000000001, FPR at 95% TPR:0.5489614243323442     46/210\n",
      "--------------------------------\n",
      "Tempearture: 5, Epsilon: 0.0008, FPR at 95% TPR:0.5363111041699203     47/210\n",
      "--------------------------------\n",
      "Tempearture: 5, Epsilon: 0.001, FPR at 95% TPR:0.5266281430579416     48/210\n",
      "--------------------------------\n",
      "Tempearture: 5, Epsilon: 0.0012000000000000001, FPR at 95% TPR:0.5185069498672498     49/210\n",
      "--------------------------------\n",
      "Tempearture: 5, Epsilon: 0.0014, FPR at 95% TPR:0.5078869280024988     50/210\n",
      "is the new best\n",
      "--------------------------------\n",
      "Tempearture: 5, Epsilon: 0.0016, FPR at 95% TPR:0.4960174918007184     51/210\n",
      "is the new best\n",
      "--------------------------------\n",
      "Tempearture: 5, Epsilon: 0.0018000000000000002, FPR at 95% TPR:0.4872715914415118     52/210\n",
      "is the new best\n",
      "--------------------------------\n",
      "Tempearture: 5, Epsilon: 0.002, FPR at 95% TPR:0.48164922692487894     53/210\n",
      "is the new best\n",
      "--------------------------------\n",
      "Tempearture: 5, Epsilon: 0.0022, FPR at 95% TPR:0.4733718569420584     54/210\n",
      "is the new best\n",
      "--------------------------------\n",
      "Tempearture: 5, Epsilon: 0.0024000000000000002, FPR at 95% TPR:0.46650007808839605     55/210\n",
      "is the new best\n",
      "--------------------------------\n",
      "Tempearture: 5, Epsilon: 0.0026000000000000003, FPR at 95% TPR:0.4608777135717632     56/210\n",
      "is the new best\n",
      "--------------------------------\n",
      "Tempearture: 5, Epsilon: 0.0028, FPR at 95% TPR:0.45603623301577384     57/210\n",
      "is the new best\n",
      "--------------------------------\n",
      "Tempearture: 5, Epsilon: 0.003, FPR at 95% TPR:0.4486959237857254     58/210\n",
      "is the new best\n",
      "--------------------------------\n",
      "Tempearture: 5, Epsilon: 0.0032, FPR at 95% TPR:0.44494768077463687     59/210\n",
      "is the new best\n",
      "--------------------------------\n",
      "Tempearture: 5, Epsilon: 0.0034000000000000002, FPR at 95% TPR:0.43979384663439014     60/210\n",
      "is the new best\n",
      "--------------------------------\n",
      "Tempearture: 5, Epsilon: 0.0036000000000000003, FPR at 95% TPR:0.4362017804154303     61/210\n",
      "is the new best\n",
      "--------------------------------\n",
      "Tempearture: 5, Epsilon: 0.0038, FPR at 95% TPR:0.4332344213649852     62/210\n",
      "is the new best\n",
      "--------------------------------\n",
      "Tempearture: 5, Epsilon: 0.004, FPR at 95% TPR:0.42870529439325317     63/210\n",
      "is the new best\n",
      "--------------------------------\n",
      "\n",
      "Tempearture: 10, Epsilon: 0.0, FPR at 95% TPR:0.5220990160862096     64/210\n",
      "--------------------------------\n",
      "Tempearture: 10, Epsilon: 0.0002, FPR at 95% TPR:0.5128845853506169     65/210\n",
      "--------------------------------\n",
      "Tempearture: 10, Epsilon: 0.0004, FPR at 95% TPR:0.5060128064969546     66/210\n",
      "--------------------------------\n",
      "Tempearture: 10, Epsilon: 0.0006000000000000001, FPR at 95% TPR:0.49648602217710447     67/210\n",
      "--------------------------------\n",
      "Tempearture: 10, Epsilon: 0.0008, FPR at 95% TPR:0.48211775730126505     68/210\n",
      "--------------------------------\n",
      "Tempearture: 10, Epsilon: 0.001, FPR at 95% TPR:0.4711853818522568     69/210\n",
      "--------------------------------\n",
      "Tempearture: 10, Epsilon: 0.0012000000000000001, FPR at 95% TPR:0.4619709511166641     70/210\n",
      "--------------------------------\n",
      "Tempearture: 10, Epsilon: 0.0014, FPR at 95% TPR:0.45744182414493206     71/210\n",
      "--------------------------------\n",
      "Tempearture: 10, Epsilon: 0.0016, FPR at 95% TPR:0.4466656254880525     72/210\n",
      "--------------------------------\n",
      "Tempearture: 10, Epsilon: 0.0018000000000000002, FPR at 95% TPR:0.4383882555052319     73/210\n",
      "--------------------------------\n",
      "Tempearture: 10, Epsilon: 0.002, FPR at 95% TPR:0.43791972512884586     74/210\n",
      "--------------------------------\n",
      "Tempearture: 10, Epsilon: 0.0022, FPR at 95% TPR:0.4329220677807278     75/210\n",
      "--------------------------------\n",
      "Tempearture: 10, Epsilon: 0.0024000000000000002, FPR at 95% TPR:0.42729970326409494     76/210\n",
      "is the new best\n",
      "--------------------------------\n",
      "Tempearture: 10, Epsilon: 0.0026000000000000003, FPR at 95% TPR:0.4221458691238482     77/210\n",
      "is the new best\n",
      "--------------------------------\n",
      "Tempearture: 10, Epsilon: 0.0028, FPR at 95% TPR:0.41714821177573014     78/210\n",
      "is the new best\n",
      "--------------------------------\n",
      "Tempearture: 10, Epsilon: 0.003, FPR at 95% TPR:0.4135561455567703     79/210\n",
      "is the new best\n",
      "--------------------------------\n",
      "Tempearture: 10, Epsilon: 0.0032, FPR at 95% TPR:0.40621583632672187     80/210\n",
      "is the new best\n",
      "--------------------------------\n",
      "Tempearture: 10, Epsilon: 0.0034000000000000002, FPR at 95% TPR:0.3982508199281587     81/210\n",
      "is the new best\n",
      "--------------------------------\n",
      "Tempearture: 10, Epsilon: 0.0036000000000000003, FPR at 95% TPR:0.39762611275964393     82/210\n",
      "is the new best\n",
      "--------------------------------\n",
      "Tempearture: 10, Epsilon: 0.0038, FPR at 95% TPR:0.39122286428236763     83/210\n",
      "is the new best\n",
      "--------------------------------\n",
      "Tempearture: 10, Epsilon: 0.004, FPR at 95% TPR:0.38841168202405124     84/210\n",
      "is the new best\n",
      "--------------------------------\n",
      "\n",
      "Tempearture: 20, Epsilon: 0.0, FPR at 95% TPR:0.48805247540215524     85/210\n",
      "--------------------------------\n",
      "Tempearture: 20, Epsilon: 0.0002, FPR at 95% TPR:0.4766515695767609     86/210\n",
      "--------------------------------\n",
      "Tempearture: 20, Epsilon: 0.0004, FPR at 95% TPR:0.4629080118694362     87/210\n",
      "--------------------------------\n",
      "Tempearture: 20, Epsilon: 0.0006000000000000001, FPR at 95% TPR:0.4486959237857254     88/210\n",
      "--------------------------------\n",
      "Tempearture: 20, Epsilon: 0.0008, FPR at 95% TPR:0.4422926753084492     89/210\n",
      "--------------------------------\n",
      "Tempearture: 20, Epsilon: 0.001, FPR at 95% TPR:0.4341714821177573     90/210\n",
      "--------------------------------\n",
      "Tempearture: 20, Epsilon: 0.0012000000000000001, FPR at 95% TPR:0.4330782445728565     91/210\n",
      "--------------------------------\n",
      "Tempearture: 20, Epsilon: 0.0014, FPR at 95% TPR:0.42339528346087774     92/210\n",
      "--------------------------------\n",
      "Tempearture: 20, Epsilon: 0.0016, FPR at 95% TPR:0.4155864438544432     93/210\n",
      "--------------------------------\n",
      "Tempearture: 20, Epsilon: 0.0018000000000000002, FPR at 95% TPR:0.41074496329845384     94/210\n",
      "--------------------------------\n",
      "Tempearture: 20, Epsilon: 0.002, FPR at 95% TPR:0.4063720131188505     95/210\n",
      "--------------------------------\n",
      "Tempearture: 20, Epsilon: 0.0022, FPR at 95% TPR:0.4010620021864751     96/210\n",
      "--------------------------------\n",
      "Tempearture: 20, Epsilon: 0.0024000000000000002, FPR at 95% TPR:0.39356551616429797     97/210\n",
      "--------------------------------\n",
      "Tempearture: 20, Epsilon: 0.0026000000000000003, FPR at 95% TPR:0.38825550523192254     98/210\n",
      "is the new best\n",
      "--------------------------------\n",
      "Tempearture: 20, Epsilon: 0.0028, FPR at 95% TPR:0.3815399031703889     99/210\n",
      "is the new best\n",
      "--------------------------------\n",
      "Tempearture: 20, Epsilon: 0.003, FPR at 95% TPR:0.3782601905356864     100/210\n",
      "is the new best\n",
      "--------------------------------\n",
      "Tempearture: 20, Epsilon: 0.0032, FPR at 95% TPR:0.37482430110885523     101/210\n",
      "is the new best\n",
      "--------------------------------\n",
      "Tempearture: 20, Epsilon: 0.0034000000000000002, FPR at 95% TPR:0.36654693112603465     102/210\n",
      "is the new best\n",
      "--------------------------------\n",
      "Tempearture: 20, Epsilon: 0.0036000000000000003, FPR at 95% TPR:0.36264251132281744     103/210\n",
      "is the new best\n",
      "--------------------------------\n",
      "Tempearture: 20, Epsilon: 0.0038, FPR at 95% TPR:0.3599875058566297     104/210\n",
      "is the new best\n",
      "--------------------------------\n",
      "Tempearture: 20, Epsilon: 0.004, FPR at 95% TPR:0.3584257379353428     105/210\n",
      "is the new best\n",
      "--------------------------------\n",
      "\n",
      "Tempearture: 50, Epsilon: 0.0, FPR at 95% TPR:0.4540059347181009     106/210\n",
      "--------------------------------\n",
      "Tempearture: 50, Epsilon: 0.0002, FPR at 95% TPR:0.45135092925191317     107/210\n",
      "--------------------------------\n",
      "Tempearture: 50, Epsilon: 0.0004, FPR at 95% TPR:0.4421364985163205     108/210\n",
      "--------------------------------\n",
      "Tempearture: 50, Epsilon: 0.0006000000000000001, FPR at 95% TPR:0.4332344213649852     109/210\n",
      "--------------------------------\n",
      "Tempearture: 50, Epsilon: 0.0008, FPR at 95% TPR:0.42417616742152114     110/210\n",
      "--------------------------------\n",
      "Tempearture: 50, Epsilon: 0.001, FPR at 95% TPR:0.41371232234889893     111/210\n",
      "--------------------------------\n",
      "Tempearture: 50, Epsilon: 0.0012000000000000001, FPR at 95% TPR:0.40684054349523663     112/210\n",
      "--------------------------------\n",
      "Tempearture: 50, Epsilon: 0.0014, FPR at 95% TPR:0.4021552397313759     113/210\n",
      "--------------------------------\n",
      "Tempearture: 50, Epsilon: 0.0016, FPR at 95% TPR:0.39684522879900047     114/210\n",
      "--------------------------------\n",
      "Tempearture: 50, Epsilon: 0.0018000000000000002, FPR at 95% TPR:0.39122286428236763     115/210\n",
      "--------------------------------\n",
      "Tempearture: 50, Epsilon: 0.002, FPR at 95% TPR:0.3840387318444479     116/210\n",
      "--------------------------------\n",
      "Tempearture: 50, Epsilon: 0.0022, FPR at 95% TPR:0.3756051850694987     117/210\n",
      "--------------------------------\n",
      "Tempearture: 50, Epsilon: 0.0024000000000000002, FPR at 95% TPR:0.3706075277213806     118/210\n",
      "--------------------------------\n",
      "Tempearture: 50, Epsilon: 0.0026000000000000003, FPR at 95% TPR:0.364360456036233     119/210\n",
      "--------------------------------\n",
      "Tempearture: 50, Epsilon: 0.0028, FPR at 95% TPR:0.35655161642979855     120/210\n",
      "is the new best\n",
      "--------------------------------\n",
      "Tempearture: 50, Epsilon: 0.003, FPR at 95% TPR:0.35046072153677965     121/210\n",
      "is the new best\n",
      "--------------------------------\n",
      "Tempearture: 50, Epsilon: 0.0032, FPR at 95% TPR:0.34405747305950335     122/210\n",
      "is the new best\n",
      "--------------------------------\n",
      "Tempearture: 50, Epsilon: 0.0034000000000000002, FPR at 95% TPR:0.3414024675933156     123/210\n",
      "is the new best\n",
      "--------------------------------\n",
      "Tempearture: 50, Epsilon: 0.0036000000000000003, FPR at 95% TPR:0.3362486334530689     124/210\n",
      "is the new best\n",
      "--------------------------------\n",
      "Tempearture: 50, Epsilon: 0.0038, FPR at 95% TPR:0.3331250976104951     125/210\n",
      "is the new best\n",
      "--------------------------------\n",
      "Tempearture: 50, Epsilon: 0.004, FPR at 95% TPR:0.3284397938466344     126/210\n",
      "is the new best\n",
      "--------------------------------\n",
      "\n",
      "Tempearture: 100, Epsilon: 0.0, FPR at 95% TPR:0.45135092925191317     127/210\n",
      "--------------------------------\n",
      "Tempearture: 100, Epsilon: 0.0002, FPR at 95% TPR:0.4432297360612213     128/210\n",
      "--------------------------------\n",
      "Tempearture: 100, Epsilon: 0.0004, FPR at 95% TPR:0.432297360612213     129/210\n",
      "--------------------------------\n",
      "Tempearture: 100, Epsilon: 0.0006000000000000001, FPR at 95% TPR:0.42573793534280807     130/210\n",
      "--------------------------------\n",
      "Tempearture: 100, Epsilon: 0.0008, FPR at 95% TPR:0.4176167421521162     131/210\n",
      "--------------------------------\n",
      "Tempearture: 100, Epsilon: 0.001, FPR at 95% TPR:0.4084023114165235     132/210\n",
      "--------------------------------\n",
      "Tempearture: 100, Epsilon: 0.0012000000000000001, FPR at 95% TPR:0.40153053256286114     133/210\n",
      "--------------------------------\n",
      "Tempearture: 100, Epsilon: 0.0014, FPR at 95% TPR:0.3940340465406841     134/210\n",
      "--------------------------------\n",
      "Tempearture: 100, Epsilon: 0.0016, FPR at 95% TPR:0.3874746212712791     135/210\n",
      "--------------------------------\n",
      "Tempearture: 100, Epsilon: 0.0018000000000000002, FPR at 95% TPR:0.37888489770420114     136/210\n",
      "--------------------------------\n",
      "Tempearture: 100, Epsilon: 0.002, FPR at 95% TPR:0.37404341714821177     137/210\n",
      "--------------------------------\n",
      "Tempearture: 100, Epsilon: 0.0022, FPR at 95% TPR:0.3692019365922224     138/210\n",
      "--------------------------------\n",
      "Tempearture: 100, Epsilon: 0.0024000000000000002, FPR at 95% TPR:0.35951897548024364     139/210\n",
      "--------------------------------\n",
      "Tempearture: 100, Epsilon: 0.0026000000000000003, FPR at 95% TPR:0.3537404341714821     140/210\n",
      "--------------------------------\n",
      "Tempearture: 100, Epsilon: 0.0028, FPR at 95% TPR:0.34827424644697796     141/210\n",
      "--------------------------------\n",
      "Tempearture: 100, Epsilon: 0.003, FPR at 95% TPR:0.34390129626737465     142/210\n",
      "--------------------------------\n",
      "Tempearture: 100, Epsilon: 0.0032, FPR at 95% TPR:0.3415586443854443     143/210\n",
      "--------------------------------\n",
      "Tempearture: 100, Epsilon: 0.0034000000000000002, FPR at 95% TPR:0.3374980477900984     144/210\n",
      "--------------------------------\n",
      "Tempearture: 100, Epsilon: 0.0036000000000000003, FPR at 95% TPR:0.3323442136498516     145/210\n",
      "--------------------------------\n",
      "Tempearture: 100, Epsilon: 0.0038, FPR at 95% TPR:0.32906450101514917     146/210\n",
      "--------------------------------\n",
      "Tempearture: 100, Epsilon: 0.004, FPR at 95% TPR:0.32266125253787287     147/210\n",
      "is the new best\n",
      "--------------------------------\n",
      "\n",
      "Tempearture: 200, Epsilon: 0.0, FPR at 95% TPR:0.44291738247696394     148/210\n",
      "--------------------------------\n",
      "Tempearture: 200, Epsilon: 0.0002, FPR at 95% TPR:0.43479618928627206     149/210\n",
      "--------------------------------\n",
      "Tempearture: 200, Epsilon: 0.0004, FPR at 95% TPR:0.42714352647196624     150/210\n",
      "--------------------------------\n",
      "Tempearture: 200, Epsilon: 0.0006000000000000001, FPR at 95% TPR:0.4216773387474621     151/210\n",
      "--------------------------------\n",
      "Tempearture: 200, Epsilon: 0.0008, FPR at 95% TPR:0.41215055442761206     152/210\n",
      "--------------------------------\n",
      "Tempearture: 200, Epsilon: 0.001, FPR at 95% TPR:0.40590348274246446     153/210\n",
      "--------------------------------\n",
      "Tempearture: 200, Epsilon: 0.0012000000000000001, FPR at 95% TPR:0.3979384663439013     154/210\n",
      "--------------------------------\n",
      "Tempearture: 200, Epsilon: 0.0014, FPR at 95% TPR:0.3909105106981103     155/210\n",
      "--------------------------------\n",
      "Tempearture: 200, Epsilon: 0.0016, FPR at 95% TPR:0.3871622676870217     156/210\n",
      "--------------------------------\n",
      "Tempearture: 200, Epsilon: 0.0018000000000000002, FPR at 95% TPR:0.37888489770420114     157/210\n",
      "--------------------------------\n",
      "Tempearture: 200, Epsilon: 0.002, FPR at 95% TPR:0.3706075277213806     158/210\n",
      "--------------------------------\n",
      "Tempearture: 200, Epsilon: 0.0022, FPR at 95% TPR:0.36482898641261907     159/210\n",
      "--------------------------------\n",
      "Tempearture: 200, Epsilon: 0.0024000000000000002, FPR at 95% TPR:0.35655161642979855     160/210\n",
      "--------------------------------\n",
      "Tempearture: 200, Epsilon: 0.0026000000000000003, FPR at 95% TPR:0.3493674839918788     161/210\n",
      "--------------------------------\n",
      "Tempearture: 200, Epsilon: 0.0028, FPR at 95% TPR:0.3434327658909886     162/210\n",
      "--------------------------------\n",
      "Tempearture: 200, Epsilon: 0.003, FPR at 95% TPR:0.3384351085428705     163/210\n",
      "--------------------------------\n",
      "Tempearture: 200, Epsilon: 0.0032, FPR at 95% TPR:0.3340621583632672     164/210\n",
      "--------------------------------\n",
      "Tempearture: 200, Epsilon: 0.0034000000000000002, FPR at 95% TPR:0.3332812744026238     165/210\n",
      "--------------------------------\n",
      "Tempearture: 200, Epsilon: 0.0036000000000000003, FPR at 95% TPR:0.33015773856005     166/210\n",
      "--------------------------------\n",
      "Tempearture: 200, Epsilon: 0.0038, FPR at 95% TPR:0.3250039044198032     167/210\n",
      "--------------------------------\n",
      "Tempearture: 200, Epsilon: 0.004, FPR at 95% TPR:0.3200062470716851     168/210\n",
      "is the new best\n",
      "--------------------------------\n",
      "\n",
      "Tempearture: 500, Epsilon: 0.0, FPR at 95% TPR:0.43948149305013273     169/210\n",
      "--------------------------------\n",
      "Tempearture: 500, Epsilon: 0.0002, FPR at 95% TPR:0.43198500702795567     170/210\n",
      "--------------------------------\n",
      "Tempearture: 500, Epsilon: 0.0004, FPR at 95% TPR:0.42636264251132283     171/210\n",
      "--------------------------------\n",
      "Tempearture: 500, Epsilon: 0.0006000000000000001, FPR at 95% TPR:0.4179290957363736     172/210\n",
      "--------------------------------\n",
      "Tempearture: 500, Epsilon: 0.0008, FPR at 95% TPR:0.4104326097141965     173/210\n",
      "--------------------------------\n",
      "Tempearture: 500, Epsilon: 0.001, FPR at 95% TPR:0.4023114165235046     174/210\n",
      "--------------------------------\n",
      "Tempearture: 500, Epsilon: 0.0012000000000000001, FPR at 95% TPR:0.39278463220365456     175/210\n",
      "--------------------------------\n",
      "Tempearture: 500, Epsilon: 0.0014, FPR at 95% TPR:0.3877869748555365     176/210\n",
      "--------------------------------\n",
      "Tempearture: 500, Epsilon: 0.0016, FPR at 95% TPR:0.38325784788380446     177/210\n",
      "--------------------------------\n",
      "Tempearture: 500, Epsilon: 0.0018000000000000002, FPR at 95% TPR:0.3782601905356864     178/210\n",
      "--------------------------------\n",
      "Tempearture: 500, Epsilon: 0.002, FPR at 95% TPR:0.37107605809776667     179/210\n",
      "--------------------------------\n",
      "Tempearture: 500, Epsilon: 0.0022, FPR at 95% TPR:0.36233015773856003     180/210\n",
      "--------------------------------\n",
      "Tempearture: 500, Epsilon: 0.0024000000000000002, FPR at 95% TPR:0.3549898485085116     181/210\n",
      "--------------------------------\n",
      "Tempearture: 500, Epsilon: 0.0026000000000000003, FPR at 95% TPR:0.3465563017335624     182/210\n",
      "--------------------------------\n",
      "Tempearture: 500, Epsilon: 0.0028, FPR at 95% TPR:0.34093393721692955     183/210\n",
      "--------------------------------\n",
      "Tempearture: 500, Epsilon: 0.003, FPR at 95% TPR:0.3362486334530689     184/210\n",
      "--------------------------------\n",
      "Tempearture: 500, Epsilon: 0.0032, FPR at 95% TPR:0.3325003904419803     185/210\n",
      "--------------------------------\n",
      "Tempearture: 500, Epsilon: 0.0034000000000000002, FPR at 95% TPR:0.3279712634702483     186/210\n",
      "--------------------------------\n",
      "Tempearture: 500, Epsilon: 0.0036000000000000003, FPR at 95% TPR:0.3251600812119319     187/210\n",
      "--------------------------------\n",
      "Tempearture: 500, Epsilon: 0.0038, FPR at 95% TPR:0.3231297829142589     188/210\n",
      "--------------------------------\n",
      "Tempearture: 500, Epsilon: 0.004, FPR at 95% TPR:0.3206309542401999     189/210\n",
      "--------------------------------\n",
      "\n",
      "Tempearture: 1000, Epsilon: 0.0, FPR at 95% TPR:0.4404185538029049     190/210\n",
      "--------------------------------\n",
      "Tempearture: 1000, Epsilon: 0.0002, FPR at 95% TPR:0.4324535374043417     191/210\n",
      "--------------------------------\n",
      "Tempearture: 1000, Epsilon: 0.0004, FPR at 95% TPR:0.42339528346087774     192/210\n",
      "--------------------------------\n",
      "Tempearture: 1000, Epsilon: 0.0006000000000000001, FPR at 95% TPR:0.41511791347805715     193/210\n",
      "--------------------------------\n",
      "Tempearture: 1000, Epsilon: 0.0008, FPR at 95% TPR:0.4085584882086522     194/210\n",
      "--------------------------------\n",
      "Tempearture: 1000, Epsilon: 0.001, FPR at 95% TPR:0.4012181789786038     195/210\n",
      "--------------------------------\n",
      "Tempearture: 1000, Epsilon: 0.0012000000000000001, FPR at 95% TPR:0.39153521786662504     196/210\n",
      "--------------------------------\n",
      "Tempearture: 1000, Epsilon: 0.0014, FPR at 95% TPR:0.3871622676870217     197/210\n",
      "--------------------------------\n",
      "Tempearture: 1000, Epsilon: 0.0016, FPR at 95% TPR:0.3837263782601905     198/210\n",
      "--------------------------------\n",
      "Tempearture: 1000, Epsilon: 0.0018000000000000002, FPR at 95% TPR:0.3776354833671716     199/210\n",
      "--------------------------------\n",
      "Tempearture: 1000, Epsilon: 0.002, FPR at 95% TPR:0.37170076526628143     200/210\n",
      "--------------------------------\n",
      "Tempearture: 1000, Epsilon: 0.0022, FPR at 95% TPR:0.36279868811494614     201/210\n",
      "--------------------------------\n",
      "Tempearture: 1000, Epsilon: 0.0024000000000000002, FPR at 95% TPR:0.355302202092769     202/210\n",
      "--------------------------------\n",
      "Tempearture: 1000, Epsilon: 0.0026000000000000003, FPR at 95% TPR:0.3457754177729189     203/210\n",
      "--------------------------------\n",
      "Tempearture: 1000, Epsilon: 0.0028, FPR at 95% TPR:0.3404654068405435     204/210\n",
      "--------------------------------\n",
      "Tempearture: 1000, Epsilon: 0.003, FPR at 95% TPR:0.3345306887396533     205/210\n",
      "--------------------------------\n",
      "Tempearture: 1000, Epsilon: 0.0032, FPR at 95% TPR:0.33078244572856474     206/210\n",
      "--------------------------------\n",
      "Tempearture: 1000, Epsilon: 0.0034000000000000002, FPR at 95% TPR:0.3262533187568327     207/210\n",
      "--------------------------------\n",
      "Tempearture: 1000, Epsilon: 0.0036000000000000003, FPR at 95% TPR:0.3242230204591598     208/210\n",
      "--------------------------------\n",
      "Tempearture: 1000, Epsilon: 0.0038, FPR at 95% TPR:0.32281742933000157     209/210\n",
      "--------------------------------\n",
      "Tempearture: 1000, Epsilon: 0.004, FPR at 95% TPR:0.31953771669529907     210/210\n",
      "is the new best\n",
      "--------------------------------\n",
      "\n",
      "\n",
      "\n",
      "Best performance Temperature:1000  Epsilon: 0.004, FPR at 95% TPR:0.31953771669529907\n"
     ]
    }
   ],
   "source": [
    "temperature = [1, 2, 5, 10, 20, 50, 100, 200, 500, 1000]\n",
    "eps =  np.linspace(0, 0.004, 21)\n",
    "std_dev = 0.5\n",
    "best_fpr = 100\n",
    "n=0\n",
    "tot = len (temperature) * len(eps) \n",
    "for T in temperature:\n",
    "    for magnitude in eps:\n",
    "\n",
    "        \n",
    "        scores_test_ODIN = []\n",
    "        model.eval()\n",
    "        for data in testloader:  \n",
    "            model.zero_grad()\n",
    "            x,y_true = data\n",
    "            x,y_true = x.to(device), y_true.to(device)\n",
    "            x.requires_grad_()\n",
    "            logits = model(x) \n",
    "            prob = F.softmax(logits/T, 1)\n",
    "            y_pred = torch.argmax(prob)\n",
    "            \n",
    "            if(y_pred ==  y_true):\n",
    "                 \n",
    "                 l = F.cross_entropy(prob, torch.unsqueeze(y_pred,0).to(device))\n",
    "                 l.backward()\n",
    "                 gradient_sign = x.grad.data.sign()\n",
    "                 x.grad.zero_()\n",
    "                 gradient_sign = gradient_sign/std_dev \n",
    "                 scores_test_ODIN.append(ODIN(gradient_sign, x, magnitude, T))\n",
    "                       \n",
    "        scores_test_ODIN = torch.cat(scores_test_ODIN) \n",
    "            \n",
    "        scores_fake_ODIN = []\n",
    "        model.eval()\n",
    "        for data in fakeloader: \n",
    "            if len(scores_fake_ODIN) >=  len(scores_test_ODIN):\n",
    "                break\n",
    "                \n",
    "            model.zero_grad()\n",
    "            x,_ = data\n",
    "            x = x.to(device)\n",
    "            x.requires_grad_()\n",
    "            logits = model(x) \n",
    "            prob = F.softmax(logits/T, 1)\n",
    "            y_pred = torch.argmax(prob)\n",
    "            y_pred = torch.unsqueeze(y_pred,0)\n",
    "            l = F.cross_entropy(prob,y_pred)\n",
    "            l.backward()\n",
    "            gradient_sign = x.grad.data.sign()/std_dev \n",
    "            x.grad.zero_()\n",
    "            scores_fake_ODIN.append(ODIN(gradient_sign, x, magnitude, T) )\n",
    "            \n",
    "                         \n",
    "        scores_fake_ODIN = torch.cat(scores_fake_ODIN) \n",
    "\n",
    "\n",
    "        y_fake_ODIN = torch.zeros_like(scores_fake_ODIN)\n",
    "        y_test_ODIN = torch.ones_like(scores_test_ODIN)\n",
    "        ypred_ODIN = torch.cat((scores_test_ODIN, scores_fake_ODIN))\n",
    "        ytrue_ODIN = torch.cat((y_test_ODIN, y_fake_ODIN))\n",
    "        fpr_ODIN, tpr_ODIN, thresholds_ODIN = metrics.roc_curve(ytrue_ODIN, ypred_ODIN.detach().numpy())\n",
    "        idx_ODIN = np.argmin(np.abs(tpr_ODIN - 0.95))\n",
    "        fpr_at_95_ODIN = fpr_ODIN[idx_ODIN]\n",
    "        n += 1\n",
    "        print(f'Tempearture: {T}, Epsilon: {magnitude}, FPR at 95% TPR:{fpr_at_95_ODIN}     {n}/{tot}') \n",
    "        if fpr_at_95_ODIN < best_fpr:\n",
    "            best_ypred = ypred_ODIN\n",
    "            best_ytrue = ytrue_ODIN\n",
    "            bestT = T\n",
    "            bestEps = magnitude\n",
    "            best_fpr = fpr_at_95_ODIN\n",
    "            print(\"is the new best\")\n",
    "        print(\"--------------------------------\")\n",
    "        print()\n",
    "    print()\n",
    "    print()\n",
    "\n",
    "print( f'Best performance Temperature:{bestT}  Epsilon: {bestEps}, FPR at 95% TPR:{best_fpr}')\n"
   ]
  },
  {
   "cell_type": "code",
   "execution_count": 18,
   "id": "eab5a575-1bca-4534-a4bd-43c91021d45c",
   "metadata": {
    "ExecuteTime": {
     "end_time": "2025-07-02T00:15:15.410659500Z",
     "start_time": "2025-07-02T00:15:15.194659800Z"
    }
   },
   "outputs": [
    {
     "data": {
      "text/plain": "<Figure size 800x600 with 1 Axes>",
      "image/png": "[encoded data removed]"
     },
     "metadata": {},
     "output_type": "display_data"
    }
   ],
   "source": [
    "fpr_ODIN, tpr_ODIN, _ = metrics.roc_curve(best_ytrue, best_ypred.detach().numpy())\n",
    "roc_auc_ODIN = metrics.auc(fpr_ODIN, tpr_ODIN)\n",
    "\n",
    "# Prepare true labels and predictions for regular scores\n",
    "y_fake = torch.zeros_like(scores_fake)\n",
    "y_test = torch.ones_like(scores_test)\n",
    "ypred = torch.cat((scores_test, scores_fake))\n",
    "ytrue = torch.cat((y_test, y_fake))\n",
    "\n",
    "# Compute ROC curve and AUC for regular scores\n",
    "fpr, tpr, _ = metrics.roc_curve(ytrue, ypred)\n",
    "roc_auc = metrics.auc(fpr, tpr)\n",
    "\n",
    "# Plot both ROC curves on the same figure\n",
    "plt.figure(figsize=(8, 6))\n",
    "plt.plot(fpr_ODIN, tpr_ODIN, label=f'ODIN ROC (AUC = {roc_auc_ODIN:.4f})')\n",
    "plt.plot(fpr, tpr, label=f'Baseline ROC (AUC = {roc_auc:.4f})')\n",
    "\n",
    "# Plot diagonal line\n",
    "plt.plot([0, 1], [0, 1], 'k--')\n",
    "\n",
    "# Plot formatting\n",
    "plt.xlabel('False Positive Rate')\n",
    "plt.ylabel('True Positive Rate')\n",
    "plt.title('ROC Curve Comparison')\n",
    "plt.legend(loc='lower right')\n",
    "plt.grid(True)\n",
    "plt.tight_layout()\n",
    "plt.show()  "
   ]
  }
 ],
 "metadata": {
  "kernelspec": {
   "display_name": "Python 3 (ipykernel)",
   "language": "python",
   "name": "python3"
  },
  "language_info": {
   "codemirror_mode": {
    "name": "ipython",
    "version": 3
   },
   "file_extension": ".py",
   "mimetype": "text/x-python",
   "name": "python",
   "nbconvert_exporter": "python",
   "pygments_lexer": "ipython3",
   "version": "3.10.11"
  }
 },
 "nbformat": 4,
 "nbformat_minor": 5
}
